{
 "cells": [
  {
   "cell_type": "code",
   "execution_count": null,
   "id": "0d85e786",
   "metadata": {},
   "outputs": [],
   "source": [
    "import sys  \n",
    "sys.path.insert(0, '../')"
   ]
  },
  {
   "cell_type": "code",
   "execution_count": null,
   "id": "274f7d42",
   "metadata": {},
   "outputs": [],
   "source": [
    "import pickle\n",
    "import pandas as pd\n",
    "import pprint\n",
    "from align_and_analyse_ambiguous_trans import analyse_single_sentence_single_perturbed_word, analyse_single_sentence, align_translations, uniquify"
   ]
  },
  {
   "cell_type": "code",
   "execution_count": null,
   "id": "1f04148a",
   "metadata": {},
   "outputs": [],
   "source": [
    "dataset = 'winoMT'\n",
    "data_root_path = '../data'\n",
    "src_lang = 'en'\n",
    "tgt_lang = 'de'\n",
    "\n",
    "beam = 5\n",
    "seed = 0\n",
    "replacement_strategy = 'masking_language_model'\n",
    "no_of_replacements = 30\n",
    "unmasking_model = \"roberta-base\"\n",
    "\n",
    "if tgt_lang in ['de', 'cs']:\n",
    "    mask_type = f'MultiplePerSentence_content'\n",
    "    effecting_words_threshold = 2\n",
    "    consistence_trans_portion_threshold = 0.95\n",
    "    uniques_portion_for_noiseORperturbed_threshold = 0.9\n",
    "    nmt_log_prob_threshold = 0.45\n",
    "    alignment_tool=\"Tercom\"\n",
    "elif tgt_lang in ['zh', 'ja']:\n",
    "    mask_type = f'MultiplePerSentence_allTokens'\n",
    "    effecting_words_threshold = 4\n",
    "    consistence_trans_portion_threshold = 0.95\n",
    "    uniques_portion_for_noiseORperturbed_threshold = 0.8\n",
    "    nmt_log_prob_threshold = 0.6\n",
    "    alignment_tool=\"Tercom\"\n",
    "task = 'trans_word_level_eval'"
   ]
  },
  {
   "cell_type": "code",
   "execution_count": null,
   "id": "09460033",
   "metadata": {},
   "outputs": [],
   "source": [
    "QE_method = \"nr_effecting_src_words\"\n",
    "with open(f\"../analyse_output/winoMT_en2de_qe_wmt21/pred_labels_{QE_method}.pkl\", 'rb') as f:\n",
    "    qe_ok_bad_preds = pickle.load(f)\n"
   ]
  },
  {
   "cell_type": "code",
   "execution_count": null,
   "id": "051233bd",
   "metadata": {},
   "outputs": [],
   "source": [
    "perturbed_trans_df = pd.read_pickle(\n",
    "    \"../analyse_output/winoMT_en2de_qe_wmt21/analyse_winoMT_en2de_MultiplePerSentence_content.pkl\"\n",
    ")"
   ]
  },
  {
   "cell_type": "code",
   "execution_count": null,
   "id": "41c072a7",
   "metadata": {},
   "outputs": [],
   "source": [
    "def str_to_list(list_as_str):\n",
    "    \"\"\"\n",
    "    E.g.,\n",
    "    \"[0, 1]\" --> [0, 1]\n",
    "    \"\"\"\n",
    "    if list_as_str == '[]':\n",
    "        return []\n",
    "    else:\n",
    "        l = list_as_str[1:-1].split(', ')\n",
    "        l = [int(x) for x in l]\n",
    "        return l\n",
    "    \n",
    "    \n",
    "\n",
    "    \n",
    "true_positive_indices = []\n",
    "\n",
    "gender_pred = pd.read_csv(\"../analyse_output/winoMT_en2de_qe_wmt21/gender_pred.csv\")\n",
    "winoMT_data = pd.read_csv(\n",
    "    \"../../mt_gender/data/aggregates/en.txt\", \n",
    "    sep='\\t', header=None, names=['Gender', 'x', 'SRC', 'noun']\n",
    ")\n",
    "gender_info = pd.merge(winoMT_data, gender_pred, left_index=True, right_index=True)\n",
    "# Find out the wrong gender output\n",
    "gender_info['Correct gender prediction'] = gender_info['Gender'] == gender_info['Predicted gender']\n",
    "\n",
    "nr_true_positives = 0  # The number of wrongly outputted gender translation that is labeled as BAD\n",
    "nr_positives = 0  # The total number of wrongly outputted gender translation\n",
    "for sentence_index in range(winoMT_data.shape[0]):\n",
    "    true_positive_indices_per_sentence = []\n",
    "    if not gender_info['Correct gender prediction'].iloc[sentence_index]:\n",
    "        gender_word_indices = str_to_list(gender_info['Gender words indices'].iloc[sentence_index])\n",
    "        nr_positives = nr_positives + len(gender_word_indices)\n",
    "\n",
    "        for gender_word_index in gender_word_indices:\n",
    "            if qe_ok_bad_preds[sentence_index][gender_word_index] == \"BAD\":\n",
    "                nr_true_positives = nr_true_positives + 1\n",
    "                true_positive_indices_per_sentence.append(gender_word_index)\n",
    "    true_positive_indices.append(true_positive_indices_per_sentence)\n"
   ]
  },
  {
   "cell_type": "code",
   "execution_count": null,
   "id": "22462e2b",
   "metadata": {},
   "outputs": [],
   "source": [
    "print(\"sentences with wrong gender detected\")\n",
    "s = [i for i in range(winoMT_data.shape[0]) if len(true_positive_indices[i])>0]\n",
    "print(s)"
   ]
  },
  {
   "cell_type": "code",
   "execution_count": null,
   "id": "ac9c3bac",
   "metadata": {},
   "outputs": [],
   "source": [
    "true_positive_indices[9]"
   ]
  },
  {
   "cell_type": "code",
   "execution_count": null,
   "id": "38d9ca38",
   "metadata": {},
   "outputs": [],
   "source": [
    "task = 'trans_word_level_eval'\n",
    "sentence_idx = 9\n",
    "word_idx = 4\n",
    "\n",
    "sentence_df = perturbed_trans_df[perturbed_trans_df['SRC_original_idx'] == sentence_idx]\n",
    "original_SRC = sentence_df['SRC'].values[0]\n",
    "original_translation = sentence_df['SRC-Trans'].values[0]\n",
    "tok_original_translation = sentence_df['tokenized_SRC-Trans'].values[0]\n",
    "tok_original_SRC = sentence_df['tokenized_SRC'].values[0]\n",
    "word = tok_original_translation[word_idx]"
   ]
  },
  {
   "cell_type": "code",
   "execution_count": null,
   "id": "1f65721b",
   "metadata": {},
   "outputs": [],
   "source": [
    "print(f\"Original SRC sentence:\\n{original_SRC}\")\n",
    "print(f\"Original trans:\\n{original_translation}\")\n",
    "print(f\"BAD word: {word}\")\n",
    "print()\n",
    "\n",
    "pprint.pprint(analyse_single_sentence(\n",
    "    sentence_df, align_type=\"trans-only\", return_word_index=False,\n",
    "    consistence_trans_portion_threshold=consistence_trans_portion_threshold,\n",
    "    uniques_portion_for_noiseORperturbed_threshold=uniques_portion_for_noiseORperturbed_threshold,\n",
    "    alignment_tool=alignment_tool\n",
    ")[word])"
   ]
  },
  {
   "cell_type": "code",
   "execution_count": null,
   "id": "2f50734c",
   "metadata": {},
   "outputs": [],
   "source": [
    "original_word = 'chief'\n",
    "\n",
    "\n",
    "groups_by_perturbed_word = sentence_df.groupby(\"SRC_masked_index\", as_index=False)\n",
    "original_words = [group_by_perturbed_word.iloc[0]['original_word']\n",
    "                  for _, group_by_perturbed_word in groups_by_perturbed_word]\n",
    "groups_by_perturbed_word = [group_by_perturbed_word for _, group_by_perturbed_word in groups_by_perturbed_word]\n",
    "original_words = list(uniquify(original_words))\n",
    "\n",
    "\n",
    "sentence_single_perturbed_word_df = groups_by_perturbed_word[original_words.index(original_word)]\n",
    "\n",
    "\n",
    "pprint.pprint(analyse_single_sentence_single_perturbed_word(\n",
    "    sentence_single_perturbed_word_df, align_type=\"trans-only\",\n",
    "    consistence_trans_portion_threshold=consistence_trans_portion_threshold,\n",
    "    uniques_portion_for_noiseORperturbed_threshold=0.8,\n",
    "    alignment_tool=alignment_tool\n",
    "))\n",
    "tmp_df = align_translations(sentence_single_perturbed_word_df, align_type=\"trans-only\", alignment_tool=alignment_tool)\n",
    "tmp_df"
   ]
  },
  {
   "cell_type": "code",
   "execution_count": null,
   "id": "588ad83e",
   "metadata": {},
   "outputs": [],
   "source": []
  },
  {
   "cell_type": "code",
   "execution_count": null,
   "id": "2b0637d7",
   "metadata": {},
   "outputs": [],
   "source": []
  }
 ],
 "metadata": {
  "kernelspec": {
   "display_name": "Python 3 (ipykernel)",
   "language": "python",
   "name": "python3"
  },
  "language_info": {
   "codemirror_mode": {
    "name": "ipython",
    "version": 3
   },
   "file_extension": ".py",
   "mimetype": "text/x-python",
   "name": "python",
   "nbconvert_exporter": "python",
   "pygments_lexer": "ipython3",
   "version": "3.9.13"
  }
 },
 "nbformat": 4,
 "nbformat_minor": 5
}
