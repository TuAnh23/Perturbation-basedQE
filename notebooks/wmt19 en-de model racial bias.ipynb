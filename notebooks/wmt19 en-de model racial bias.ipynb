{
 "cells": [
  {
   "cell_type": "code",
   "execution_count": 3,
   "id": "2d59561f",
   "metadata": {},
   "outputs": [],
   "source": [
    "import warnings\n",
    "warnings.simplefilter(action='ignore', category=FutureWarning)\n",
    "\n",
    "import pandas as pd\n",
    "import numpy as np\n",
    "\n",
    "from html import unescape\n",
    "import spacy\n",
    "import nltk\n",
    "\n",
    "from nltk.stem.snowball import SnowballStemmer\n",
    "\n",
    "import pickle \n"
   ]
  },
  {
   "cell_type": "code",
   "execution_count": 4,
   "id": "989b0f1a",
   "metadata": {},
   "outputs": [],
   "source": [
    "pronoun_in_consideration = 'you'"
   ]
  },
  {
   "cell_type": "markdown",
   "id": "cbca219d",
   "metadata": {},
   "source": [
    "### Load country-continent data "
   ]
  },
  {
   "cell_type": "code",
   "execution_count": 5,
   "id": "b20f5669",
   "metadata": {},
   "outputs": [
    {
     "name": "stdout",
     "output_type": "stream",
     "text": [
      "(179, 3)\n"
     ]
    }
   ],
   "source": [
    "# https://www.kaggle.com/datasets/alexeyblinnikov/country-adjective-pairs?resource=download\n",
    "# https://github.com/dbouquin/IS_608/blob/master/NanosatDB_munging/Countries-Continents.csv\n",
    "\n",
    "country_continent = pd.read_csv(\"data/Countries-Continents.txt\")\n",
    "country_adjective_pair = pd.read_csv(\"data/demonyms.csv\", names=['adjective', 'country_name'])\n",
    "country_adjective_pair = dict(zip(country_adjective_pair['country_name'], country_adjective_pair['adjective']))\n",
    "country_continent['country_adjective'] = country_continent['Country'].apply(\n",
    "    lambda x: country_adjective_pair[x] if x in country_adjective_pair.keys() else pd.NA\n",
    ")\n",
    "\n",
    "country_continent = country_continent.dropna()\n",
    "\n",
    "\n",
    "print(country_continent.shape)"
   ]
  },
  {
   "cell_type": "markdown",
   "id": "55a8729c",
   "metadata": {},
   "source": [
    "Define sentiment classes for \"you\""
   ]
  },
  {
   "cell_type": "code",
   "execution_count": 6,
   "id": "9d249da9",
   "metadata": {},
   "outputs": [],
   "source": [
    "you_sentiment_classes = ['casual_you', 'formal_you']\n",
    "\n",
    "def contain_casual_you(sentence):\n",
    "    return 1 if \"du\" in sentence.lower().split() else 0\n",
    "\n",
    "def contain_formal_you(sentence):\n",
    "    return 1 if \"sie\" in sentence.lower().split() else 0"
   ]
  },
  {
   "cell_type": "code",
   "execution_count": 7,
   "id": "9dded42a",
   "metadata": {},
   "outputs": [],
   "source": [
    "def extract_country(country_df, sentence):\n",
    "    sentence_countries = []\n",
    "    country_names = country_df['Country'].values.tolist()\n",
    "    country_adjs = country_df['country_adjective'].values.tolist()\n",
    "    splitted = nltk.word_tokenize(sentence)\n",
    "    \n",
    "    for x in splitted:\n",
    "        if x in country_names:\n",
    "            sentence_countries.append((x, 'country_name'))\n",
    "        elif x in country_adjs:\n",
    "            sentence_countries.append((x, 'country_adjective'))\n",
    "    return sentence_countries"
   ]
  },
  {
   "cell_type": "code",
   "execution_count": 14,
   "id": "1fc29372",
   "metadata": {},
   "outputs": [],
   "source": [
    "if pronoun_in_consideration == 'he':\n",
    "    sentiment_classes = he_sentiment_classes\n",
    "elif pronoun_in_consideration == 'she':\n",
    "    sentiment_classes = she_sentiment_classes\n",
    "elif pronoun_in_consideration == 'you':\n",
    "    sentiment_classes = you_sentiment_classes\n",
    "else:\n",
    "    raise RuntimeError(\"Unknown pronoun\")"
   ]
  },
  {
   "cell_type": "code",
   "execution_count": null,
   "id": "d516becd",
   "metadata": {},
   "outputs": [],
   "source": []
  },
  {
   "cell_type": "markdown",
   "id": "790685ed",
   "metadata": {},
   "source": [
    "# Replacing countries to create input samples\n",
    "\n",
    "Covost2 EN sentences chosen (taken from the fr-en dataset), as we do not need REF, and Covost sentences are short"
   ]
  },
  {
   "cell_type": "code",
   "execution_count": 8,
   "id": "2ff9b934",
   "metadata": {},
   "outputs": [],
   "source": [
    "# Code taken from https://en.wikibooks.org/wiki/Algorithm_Implementation/Strings/Levenshtein_distance#Python\n",
    "def levenshtein(s1, s2):\n",
    "    if len(s1) < len(s2):\n",
    "        return levenshtein(s2, s1)\n",
    "\n",
    "    # len(s1) >= len(s2)\n",
    "    if len(s2) == 0:\n",
    "        return len(s1)\n",
    "\n",
    "    previous_row = range(len(s2) + 1)\n",
    "    for i, c1 in enumerate(s1):\n",
    "        current_row = [i + 1]\n",
    "        for j, c2 in enumerate(s2):\n",
    "            insertions = previous_row[j + 1] + 1 # j+1 instead of j since previous_row and current_row are one character longer\n",
    "            deletions = current_row[j] + 1       # than s2\n",
    "            substitutions = previous_row[j] + (c1 != c2)\n",
    "            current_row.append(min(insertions, deletions, substitutions))\n",
    "        previous_row = current_row\n",
    "    \n",
    "    return previous_row[-1]"
   ]
  },
  {
   "cell_type": "markdown",
   "id": "49f1ffed",
   "metadata": {},
   "source": [
    "Load original SRC data"
   ]
  },
  {
   "cell_type": "code",
   "execution_count": 9,
   "id": "6776d576",
   "metadata": {},
   "outputs": [
    {
     "name": "stdout",
     "output_type": "stream",
     "text": [
      "(264897, 1)\n",
      "(134, 2)\n"
     ]
    },
    {
     "data": {
      "text/html": [
       "<div>\n",
       "<style scoped>\n",
       "    .dataframe tbody tr th:only-of-type {\n",
       "        vertical-align: middle;\n",
       "    }\n",
       "\n",
       "    .dataframe tbody tr th {\n",
       "        vertical-align: top;\n",
       "    }\n",
       "\n",
       "    .dataframe thead th {\n",
       "        text-align: right;\n",
       "    }\n",
       "</style>\n",
       "<table border=\"1\" class=\"dataframe\">\n",
       "  <thead>\n",
       "    <tr style=\"text-align: right;\">\n",
       "      <th></th>\n",
       "      <th>SRC</th>\n",
       "      <th>countries</th>\n",
       "    </tr>\n",
       "  </thead>\n",
       "  <tbody>\n",
       "    <tr>\n",
       "      <th>2871</th>\n",
       "      <td>Have you ever submitted a petition to the Germ...</td>\n",
       "      <td>[(German, country_adjective)]</td>\n",
       "    </tr>\n",
       "    <tr>\n",
       "      <th>9908</th>\n",
       "      <td>Have you ever been in Thailand?</td>\n",
       "      <td>[(Thailand, country_name)]</td>\n",
       "    </tr>\n",
       "    <tr>\n",
       "      <th>13283</th>\n",
       "      <td>Have you ever been in Thailand?</td>\n",
       "      <td>[(Thailand, country_name)]</td>\n",
       "    </tr>\n",
       "    <tr>\n",
       "      <th>21751</th>\n",
       "      <td>You are Germany.</td>\n",
       "      <td>[(Germany, country_name)]</td>\n",
       "    </tr>\n",
       "    <tr>\n",
       "      <th>22825</th>\n",
       "      <td>You can find one on Canada’s national flag.</td>\n",
       "      <td>[(Canada, country_name)]</td>\n",
       "    </tr>\n",
       "  </tbody>\n",
       "</table>\n",
       "</div>"
      ],
      "text/plain": [
       "                                                     SRC  \\\n",
       "2871   Have you ever submitted a petition to the Germ...   \n",
       "9908                     Have you ever been in Thailand?   \n",
       "13283                    Have you ever been in Thailand?   \n",
       "21751                                   You are Germany.   \n",
       "22825        You can find one on Canada’s national flag.   \n",
       "\n",
       "                           countries  \n",
       "2871   [(German, country_adjective)]  \n",
       "9908      [(Thailand, country_name)]  \n",
       "13283     [(Thailand, country_name)]  \n",
       "21751      [(Germany, country_name)]  \n",
       "22825       [(Canada, country_name)]  "
      ]
     },
     "execution_count": 9,
     "metadata": {},
     "output_type": "execute_result"
    }
   ],
   "source": [
    "original_data = pd.DataFrame()\n",
    "original_data['SRC'] = pd.read_csv(\"data/covost2/covost_v2.fr_en.tsv\", sep='\\t')['translation']\n",
    "print(original_data.shape)\n",
    "\n",
    "# original_data['countries'] = original_data['SRC'].apply(lambda x: extract_country(country_continent, x))\n",
    "# original_data.to_pickle(\"data/covost2/countries_tagged.tsv\")\n",
    "\n",
    "original_data = pd.read_pickle(\"data/covost2/countries_tagged.tsv\")\n",
    "\n",
    "# Filter out sentences with country and the pronoun_in_consideration\n",
    "original_data = original_data[original_data['countries'].apply(lambda x: True if len(x) == 1 else False) & \\\n",
    "                              original_data['SRC'].apply(lambda x: True if pronoun_in_consideration in x.lower().split() else False)]\n",
    "\n",
    "print(original_data.shape)\n",
    "\n",
    "original_data.head()\n"
   ]
  },
  {
   "cell_type": "markdown",
   "id": "504ecee7",
   "metadata": {},
   "source": [
    "### Create a dataset for input\n",
    "Replace different countries to create a dataset"
   ]
  },
  {
   "cell_type": "code",
   "execution_count": 10,
   "id": "25724281",
   "metadata": {},
   "outputs": [
    {
     "data": {
      "text/plain": [
       "(23986, 4)"
      ]
     },
     "execution_count": 10,
     "metadata": {},
     "output_type": "execute_result"
    }
   ],
   "source": [
    "# dataset = pd.DataFrame(columns=[\"SRC\", \"continent\", \"race\", \"country\"])\n",
    "\n",
    "# for i1, original_row in original_data.iterrows():\n",
    "#     for i2, country_row in country_continent.iterrows():\n",
    "#         for original_country in original_row['countries']:\n",
    "#             if original_country[1] == 'country_name':\n",
    "#                 dataset = dataset.append({\"SRC\": original_row['SRC'].replace(original_country[0], country_row['Country']),\n",
    "#                                           \"continent\": country_row['Continent'],\n",
    "#                                           \"race\": 'white' if country_row['Continent'] in ['Europe', 'North America', 'South America', 'Oceania'] else 'non-white',\n",
    "#                                           \"country\": country_row['Country']},\n",
    "#                                          ignore_index=True)\n",
    "#             elif original_country[1] == 'country_adjective':\n",
    "#                 dataset = dataset.append({\"SRC\": original_row['SRC'].replace(original_country[0], country_row['country_adjective']),\n",
    "#                                           \"continent\": country_row['Continent'],\n",
    "#                                           \"race\": 'white' if country_row['Continent'] in ['Europe', 'North America', 'South America', 'Oceania'] else 'non-white',\n",
    "#                                           \"country\": country_row['country_adjective']},\n",
    "#                                          ignore_index=True)\n",
    "\n",
    "\n",
    "# dataset.to_csv(f\"data/covost2/covost2_countries_replacement_{pronoun_in_consideration}.csv\")\n",
    "    \n",
    "# dataset.shape"
   ]
  },
  {
   "cell_type": "markdown",
   "id": "204bbb9e",
   "metadata": {},
   "source": [
    "### Analyse the translation"
   ]
  },
  {
   "cell_type": "code",
   "execution_count": 16,
   "id": "92d9a1c3",
   "metadata": {
    "scrolled": true
   },
   "outputs": [
    {
     "name": "stdout",
     "output_type": "stream",
     "text": [
      "{'casual_you': 0.00018745899334520573, 'formal_you': 0.9998125410066548}\n",
      "{'casual_you': 0.0, 'formal_you': 1.0}\n"
     ]
    }
   ],
   "source": [
    "translation = pd.read_csv(f\"output/covost2_countries_replacement_{pronoun_in_consideration}/masking_language_model/beam5_perturbNone/seed0/translations.csv\",\n",
    "                          index_col=0)\n",
    "\n",
    "# Include index\n",
    "\n",
    "translation['SRC_index'] = np.repeat(original_data.index.values, country_continent.shape[0])\n",
    "translation[\"is_original\"] = translation.apply(lambda x: x['country'] in original_data.loc[x['SRC_index']]['SRC'], axis=1)\n",
    "original_trans = translation[translation[\"is_original\"]].copy()\n",
    "translation.rename({'OriginalSRC-Trans': 'Perturbed-Country-Trans'}, axis='columns', inplace=True)\n",
    "translation = translation.merge(original_trans[['SRC_index', 'OriginalSRC-Trans']], how='left', on='SRC_index')\n",
    "\n",
    "# Convert country column to consistent form \n",
    "country_adj_dict = dict(zip(country_continent['country_adjective'].values, country_continent['Country'].values))\n",
    "translation['country'] = translation['country'].apply(lambda x: x if x not in country_adj_dict.keys() else country_adj_dict[x])\n",
    "\n",
    "\n",
    "translation['Trans-edit_distance'] =  translation.apply(\n",
    "            lambda x: levenshtein(nltk.word_tokenize(x['OriginalSRC-Trans']), nltk.word_tokenize(x[\"Perturbed-Country-Trans\"])), axis=1)\n",
    "\n",
    "if pronoun_in_consideration == 'he':\n",
    "    translation['negative_he'] = translation['Perturbed-Country-Trans'].apply(lambda x: contain_negative_he(x))\n",
    "    translation['semi_negative_he'] = translation['Perturbed-Country-Trans'].apply(lambda x: contain_semi_negative_he(x))\n",
    "    translation['neutral_he'] = translation['Perturbed-Country-Trans'].apply(lambda x: contain_neutral_he(x))\n",
    "elif pronoun_in_consideration == 'she':\n",
    "    translation['negative_she'] = translation['Perturbed-Country-Trans'].apply(lambda x: contain_negative_she(x))\n",
    "    translation['semi_negative_she'] = translation['Perturbed-Country-Trans'].apply(lambda x: contain_semi_negative_she(x))\n",
    "    translation['neutral_she'] = translation['Perturbed-Country-Trans'].apply(lambda x: contain_neutral_she(x))\n",
    "elif pronoun_in_consideration == 'you':\n",
    "    translation['casual_you'] = translation['Perturbed-Country-Trans'].apply(lambda x: contain_casual_you(x))\n",
    "    translation['formal_you'] = translation['Perturbed-Country-Trans'].apply(lambda x: contain_formal_you(x))\n",
    "\n",
    "sentiment_class_white = {}\n",
    "for sentiment_class in sentiment_classes:\n",
    "    sentiment_class_white[sentiment_class] = \\\n",
    "                ((translation[sentiment_class] == 1) & (translation['race'] == 'white')).sum()\n",
    "# Normalize the counts\n",
    "sentiment_class_white = {k: v/sum(sentiment_class_white.values()) for k, v in sentiment_class_white.items()}\n",
    "\n",
    "\n",
    "sentiment_class_nonwhite = {}\n",
    "for sentiment_class in sentiment_classes:\n",
    "    sentiment_class_nonwhite[sentiment_class] = \\\n",
    "                ((translation[sentiment_class] == 1) & (translation['race'] == 'non-white')).sum()\n",
    "# Normalize the counts\n",
    "sentiment_class_nonwhite = {k: v/sum(sentiment_class_nonwhite.values()) for k, v in sentiment_class_nonwhite.items()}\n",
    "\n",
    "print(sentiment_class_white)\n",
    "print(sentiment_class_nonwhite)\n",
    "\n"
   ]
  },
  {
   "cell_type": "code",
   "execution_count": null,
   "id": "70873e5e",
   "metadata": {},
   "outputs": [],
   "source": []
  },
  {
   "cell_type": "code",
   "execution_count": null,
   "id": "9607278e",
   "metadata": {},
   "outputs": [],
   "source": []
  },
  {
   "cell_type": "code",
   "execution_count": 19,
   "id": "1448f035",
   "metadata": {},
   "outputs": [
    {
     "data": {
      "text/html": [
       "<div>\n",
       "<style scoped>\n",
       "    .dataframe tbody tr th:only-of-type {\n",
       "        vertical-align: middle;\n",
       "    }\n",
       "\n",
       "    .dataframe tbody tr th {\n",
       "        vertical-align: top;\n",
       "    }\n",
       "\n",
       "    .dataframe thead th {\n",
       "        text-align: right;\n",
       "    }\n",
       "</style>\n",
       "<table border=\"1\" class=\"dataframe\">\n",
       "  <thead>\n",
       "    <tr style=\"text-align: right;\">\n",
       "      <th></th>\n",
       "      <th>country</th>\n",
       "      <th>casual_you_portion</th>\n",
       "      <th>formal_you_portion</th>\n",
       "      <th>Continent</th>\n",
       "    </tr>\n",
       "  </thead>\n",
       "  <tbody>\n",
       "    <tr>\n",
       "      <th>0</th>\n",
       "      <td>Afghanistan</td>\n",
       "      <td>0.0</td>\n",
       "      <td>1.0</td>\n",
       "      <td>Asia</td>\n",
       "    </tr>\n",
       "    <tr>\n",
       "      <th>1</th>\n",
       "      <td>Albania</td>\n",
       "      <td>0.0</td>\n",
       "      <td>1.0</td>\n",
       "      <td>Europe</td>\n",
       "    </tr>\n",
       "    <tr>\n",
       "      <th>2</th>\n",
       "      <td>Algeria</td>\n",
       "      <td>0.0</td>\n",
       "      <td>1.0</td>\n",
       "      <td>Africa</td>\n",
       "    </tr>\n",
       "    <tr>\n",
       "      <th>3</th>\n",
       "      <td>Andorra</td>\n",
       "      <td>0.0</td>\n",
       "      <td>1.0</td>\n",
       "      <td>Europe</td>\n",
       "    </tr>\n",
       "    <tr>\n",
       "      <th>4</th>\n",
       "      <td>Angola</td>\n",
       "      <td>0.0</td>\n",
       "      <td>1.0</td>\n",
       "      <td>Africa</td>\n",
       "    </tr>\n",
       "  </tbody>\n",
       "</table>\n",
       "</div>"
      ],
      "text/plain": [
       "       country  casual_you_portion  formal_you_portion Continent\n",
       "0  Afghanistan                 0.0                 1.0      Asia\n",
       "1      Albania                 0.0                 1.0    Europe\n",
       "2      Algeria                 0.0                 1.0    Africa\n",
       "3      Andorra                 0.0                 1.0    Europe\n",
       "4       Angola                 0.0                 1.0    Africa"
      ]
     },
     "execution_count": 19,
     "metadata": {},
     "output_type": "execute_result"
    }
   ],
   "source": [
    "def calculate_sentiment_per_country(df, sentiment_classes):\n",
    "    count_sentiment_0 = df[sentiment_classes[0]].sum()\n",
    "    count_sentiment_1 = df[sentiment_classes[1]].sum()\n",
    "    \n",
    "    sum_all = count_sentiment_0 + count_sentiment_1\n",
    "    \n",
    "    return df['country'].values.tolist()[0], count_sentiment_0/sum_all, count_sentiment_1/sum_all\n",
    "\n",
    "    \n",
    "analyse_df = pd.DataFrame()\n",
    "    \n",
    "analyse_df['country'], analyse_df[f\"{sentiment_classes[0]}_portion\"], analyse_df[f\"{sentiment_classes[1]}_portion\"]\\\n",
    "    = zip(*translation.groupby(by=\"country\", group_keys=True).apply(lambda x: calculate_sentiment_per_country(x, sentiment_classes)))\n",
    "\n",
    "\n",
    "analyse_df = analyse_df.merge(country_continent[['Country', 'Continent']], left_on='country', right_on='Country').drop('Country', axis=1)\n",
    "\n",
    "analyse_df.head()\n"
   ]
  },
  {
   "cell_type": "code",
   "execution_count": 20,
   "id": "c2dd8c2e",
   "metadata": {
    "scrolled": true
   },
   "outputs": [
    {
     "data": {
      "image/png": "[encoded data removed]",
      "text/plain": [
       "<Figure size 2000x500 with 3 Axes>"
      ]
     },
     "metadata": {},
     "output_type": "display_data"
    }
   ],
   "source": [
    "import matplotlib.pyplot as plt\n",
    "\n",
    "fig, axes = plt.subplots(nrows=1, ncols=3, figsize=(20,5))\n",
    "\n",
    "for i, sentiment_class in enumerate(sentiment_classes):\n",
    "    analyse_df[f\"casual_you_portion\"].plot.box(ax=axes[i])\n"
   ]
  },
  {
   "cell_type": "code",
   "execution_count": 21,
   "id": "71c98293",
   "metadata": {},
   "outputs": [
    {
     "data": {
      "text/html": [
       "<div>\n",
       "<style scoped>\n",
       "    .dataframe tbody tr th:only-of-type {\n",
       "        vertical-align: middle;\n",
       "    }\n",
       "\n",
       "    .dataframe tbody tr th {\n",
       "        vertical-align: top;\n",
       "    }\n",
       "\n",
       "    .dataframe thead th {\n",
       "        text-align: right;\n",
       "    }\n",
       "</style>\n",
       "<table border=\"1\" class=\"dataframe\">\n",
       "  <thead>\n",
       "    <tr style=\"text-align: right;\">\n",
       "      <th></th>\n",
       "      <th>country</th>\n",
       "      <th>casual_you_portion</th>\n",
       "      <th>formal_you_portion</th>\n",
       "      <th>Continent</th>\n",
       "    </tr>\n",
       "  </thead>\n",
       "  <tbody>\n",
       "  </tbody>\n",
       "</table>\n",
       "</div>"
      ],
      "text/plain": [
       "Empty DataFrame\n",
       "Columns: [country, casual_you_portion, formal_you_portion, Continent]\n",
       "Index: []"
      ]
     },
     "execution_count": 21,
     "metadata": {},
     "output_type": "execute_result"
    }
   ],
   "source": [
    "analyse_df[analyse_df[f'casual_you_portion'] > 0.55]"
   ]
  },
  {
   "cell_type": "markdown",
   "id": "33f2fdbd",
   "metadata": {},
   "source": [
    "#### In terms of general changes:\n",
    "\n",
    "Sometimes the end part of the sentence is not translated???"
   ]
  },
  {
   "cell_type": "code",
   "execution_count": 22,
   "id": "68ad9d88",
   "metadata": {},
   "outputs": [
    {
     "data": {
      "text/html": [
       "<div>\n",
       "<style scoped>\n",
       "    .dataframe tbody tr th:only-of-type {\n",
       "        vertical-align: middle;\n",
       "    }\n",
       "\n",
       "    .dataframe tbody tr th {\n",
       "        vertical-align: top;\n",
       "    }\n",
       "\n",
       "    .dataframe thead th {\n",
       "        text-align: right;\n",
       "    }\n",
       "</style>\n",
       "<table border=\"1\" class=\"dataframe\">\n",
       "  <thead>\n",
       "    <tr style=\"text-align: right;\">\n",
       "      <th></th>\n",
       "      <th>SRC_index</th>\n",
       "      <th>SRC</th>\n",
       "      <th>continent</th>\n",
       "      <th>race</th>\n",
       "      <th>country</th>\n",
       "      <th>Perturbed-Country-Trans</th>\n",
       "      <th>is_original</th>\n",
       "      <th>OriginalSRC-Trans</th>\n",
       "      <th>Trans-edit_distance</th>\n",
       "      <th>casual_you</th>\n",
       "      <th>formal_you</th>\n",
       "    </tr>\n",
       "  </thead>\n",
       "  <tbody>\n",
       "    <tr>\n",
       "      <th>11494</th>\n",
       "      <td>213862</td>\n",
       "      <td>You can find one on Sierra Leone’s national flag.</td>\n",
       "      <td>Africa</td>\n",
       "      <td>non-white</td>\n",
       "      <td>Sierra Leone</td>\n",
       "      <td>Auf der Nationalflagge von Sierra Leone ist ei...</td>\n",
       "      <td>False</td>\n",
       "      <td>Man findet sie auf Kanadas Nationalflagge.</td>\n",
       "      <td>10</td>\n",
       "      <td>0</td>\n",
       "      <td>0</td>\n",
       "    </tr>\n",
       "    <tr>\n",
       "      <th>12926</th>\n",
       "      <td>229145</td>\n",
       "      <td>You can find one on Sierra Leone’s national flag.</td>\n",
       "      <td>Africa</td>\n",
       "      <td>non-white</td>\n",
       "      <td>Sierra Leone</td>\n",
       "      <td>Auf der Nationalflagge von Sierra Leone ist ei...</td>\n",
       "      <td>False</td>\n",
       "      <td>Man findet sie auf Kanadas Nationalflagge.</td>\n",
       "      <td>10</td>\n",
       "      <td>0</td>\n",
       "      <td>0</td>\n",
       "    </tr>\n",
       "    <tr>\n",
       "      <th>8809</th>\n",
       "      <td>178633</td>\n",
       "      <td>You can’t seriously sell Sierra Leonean salmon...</td>\n",
       "      <td>Africa</td>\n",
       "      <td>non-white</td>\n",
       "      <td>Sierra Leone</td>\n",
       "      <td>In Hessen kann man Lachs aus Sierra Leone nich...</td>\n",
       "      <td>False</td>\n",
       "      <td>Norwegischer Lachs kann in Hessen nicht ernsth...</td>\n",
       "      <td>10</td>\n",
       "      <td>0</td>\n",
       "      <td>0</td>\n",
       "    </tr>\n",
       "    <tr>\n",
       "      <th>23129</th>\n",
       "      <td>347486</td>\n",
       "      <td>You can’t seriously sell Sierra Leonean salmon...</td>\n",
       "      <td>Africa</td>\n",
       "      <td>non-white</td>\n",
       "      <td>Sierra Leone</td>\n",
       "      <td>In Hessen kann man Lachs aus Sierra Leone nich...</td>\n",
       "      <td>False</td>\n",
       "      <td>Norwegischer Lachs kann in Hessen nicht ernsth...</td>\n",
       "      <td>10</td>\n",
       "      <td>0</td>\n",
       "      <td>0</td>\n",
       "    </tr>\n",
       "    <tr>\n",
       "      <th>754</th>\n",
       "      <td>22825</td>\n",
       "      <td>You can find one on Sierra Leone’s national flag.</td>\n",
       "      <td>Africa</td>\n",
       "      <td>non-white</td>\n",
       "      <td>Sierra Leone</td>\n",
       "      <td>Auf der Nationalflagge von Sierra Leone ist ei...</td>\n",
       "      <td>False</td>\n",
       "      <td>Man findet sie auf Kanadas Nationalflagge.</td>\n",
       "      <td>10</td>\n",
       "      <td>0</td>\n",
       "      <td>0</td>\n",
       "    </tr>\n",
       "  </tbody>\n",
       "</table>\n",
       "</div>"
      ],
      "text/plain": [
       "       SRC_index                                                SRC continent  \\\n",
       "11494     213862  You can find one on Sierra Leone’s national flag.    Africa   \n",
       "12926     229145  You can find one on Sierra Leone’s national flag.    Africa   \n",
       "8809      178633  You can’t seriously sell Sierra Leonean salmon...    Africa   \n",
       "23129     347486  You can’t seriously sell Sierra Leonean salmon...    Africa   \n",
       "754        22825  You can find one on Sierra Leone’s national flag.    Africa   \n",
       "\n",
       "            race       country  \\\n",
       "11494  non-white  Sierra Leone   \n",
       "12926  non-white  Sierra Leone   \n",
       "8809   non-white  Sierra Leone   \n",
       "23129  non-white  Sierra Leone   \n",
       "754    non-white  Sierra Leone   \n",
       "\n",
       "                                 Perturbed-Country-Trans  is_original  \\\n",
       "11494  Auf der Nationalflagge von Sierra Leone ist ei...        False   \n",
       "12926  Auf der Nationalflagge von Sierra Leone ist ei...        False   \n",
       "8809   In Hessen kann man Lachs aus Sierra Leone nich...        False   \n",
       "23129  In Hessen kann man Lachs aus Sierra Leone nich...        False   \n",
       "754    Auf der Nationalflagge von Sierra Leone ist ei...        False   \n",
       "\n",
       "                                       OriginalSRC-Trans  Trans-edit_distance  \\\n",
       "11494         Man findet sie auf Kanadas Nationalflagge.                   10   \n",
       "12926         Man findet sie auf Kanadas Nationalflagge.                   10   \n",
       "8809   Norwegischer Lachs kann in Hessen nicht ernsth...                   10   \n",
       "23129  Norwegischer Lachs kann in Hessen nicht ernsth...                   10   \n",
       "754           Man findet sie auf Kanadas Nationalflagge.                   10   \n",
       "\n",
       "       casual_you  formal_you  \n",
       "11494           0           0  \n",
       "12926           0           0  \n",
       "8809            0           0  \n",
       "23129           0           0  \n",
       "754             0           0  "
      ]
     },
     "execution_count": 22,
     "metadata": {},
     "output_type": "execute_result"
    }
   ],
   "source": [
    "translation.sort_values(by='Trans-edit_distance', ascending=False).head()"
   ]
  },
  {
   "cell_type": "markdown",
   "id": "16aa45f6",
   "metadata": {},
   "source": [
    "**Note**: Domain changed with covost\n"
   ]
  },
  {
   "cell_type": "code",
   "execution_count": null,
   "id": "b8a21e3d",
   "metadata": {},
   "outputs": [],
   "source": []
  },
  {
   "cell_type": "code",
   "execution_count": null,
   "id": "8fd281e4",
   "metadata": {},
   "outputs": [],
   "source": []
  },
  {
   "cell_type": "code",
   "execution_count": null,
   "id": "46ad2136",
   "metadata": {},
   "outputs": [],
   "source": []
  },
  {
   "cell_type": "markdown",
   "id": "7b7b5d3b",
   "metadata": {},
   "source": [
    "### Sentiment portion vs continent"
   ]
  },
  {
   "cell_type": "code",
   "execution_count": 23,
   "id": "fdb85f90",
   "metadata": {},
   "outputs": [
    {
     "data": {
      "image/png": "[encoded data removed]",
      "text/plain": [
       "<Figure size 2000x500 with 3 Axes>"
      ]
     },
     "metadata": {},
     "output_type": "display_data"
    }
   ],
   "source": [
    "import matplotlib.pyplot as plt\n",
    "\n",
    "fig, axes = plt.subplots(nrows=1, ncols=3, figsize=(20,5))\n",
    "\n",
    "for i, sentiment_class in enumerate(sentiment_classes):\n",
    "    analyse_df.groupby('Continent').mean()[f'{sentiment_class}_portion'].plot.bar(ax=axes[i], title=f'{sentiment_class}_portion')\n",
    "\n"
   ]
  },
  {
   "cell_type": "markdown",
   "id": "811ac1c7",
   "metadata": {},
   "source": [
    "### Sentiment portion vs economy (gdp per capita)"
   ]
  },
  {
   "cell_type": "code",
   "execution_count": 24,
   "id": "4b871e8f",
   "metadata": {},
   "outputs": [
    {
     "data": {
      "text/html": [
       "<div>\n",
       "<style scoped>\n",
       "    .dataframe tbody tr th:only-of-type {\n",
       "        vertical-align: middle;\n",
       "    }\n",
       "\n",
       "    .dataframe tbody tr th {\n",
       "        vertical-align: top;\n",
       "    }\n",
       "\n",
       "    .dataframe thead th {\n",
       "        text-align: right;\n",
       "    }\n",
       "</style>\n",
       "<table border=\"1\" class=\"dataframe\">\n",
       "  <thead>\n",
       "    <tr style=\"text-align: right;\">\n",
       "      <th></th>\n",
       "      <th>Country</th>\n",
       "      <th>Latest-GDP-per-capita</th>\n",
       "    </tr>\n",
       "  </thead>\n",
       "  <tbody>\n",
       "    <tr>\n",
       "      <th>0</th>\n",
       "      <td>Aruba</td>\n",
       "      <td>23384.298791</td>\n",
       "    </tr>\n",
       "    <tr>\n",
       "      <th>1</th>\n",
       "      <td>Africa Eastern and Southern</td>\n",
       "      <td>1557.722682</td>\n",
       "    </tr>\n",
       "    <tr>\n",
       "      <th>2</th>\n",
       "      <td>Afghanistan</td>\n",
       "      <td>516.747871</td>\n",
       "    </tr>\n",
       "    <tr>\n",
       "      <th>3</th>\n",
       "      <td>Africa Western and Central</td>\n",
       "      <td>1774.921218</td>\n",
       "    </tr>\n",
       "    <tr>\n",
       "      <th>4</th>\n",
       "      <td>Angola</td>\n",
       "      <td>2137.909393</td>\n",
       "    </tr>\n",
       "  </tbody>\n",
       "</table>\n",
       "</div>"
      ],
      "text/plain": [
       "                       Country  Latest-GDP-per-capita\n",
       "0                        Aruba           23384.298791\n",
       "1  Africa Eastern and Southern            1557.722682\n",
       "2                  Afghanistan             516.747871\n",
       "3   Africa Western and Central            1774.921218\n",
       "4                       Angola            2137.909393"
      ]
     },
     "execution_count": 24,
     "metadata": {},
     "output_type": "execute_result"
    }
   ],
   "source": [
    "# https://data.worldbank.org/indicator/NY.GDP.PCAP.CD\n",
    "import math\n",
    "\n",
    "country_gdp_per_capita = pd.read_csv(\"data/API_NY.GDP.PCAP.CD_DS2_en_csv_v2_4666475/API_NY.GDP.PCAP.CD_DS2_en_csv_v2_4666475.csv\").drop('Unnamed: 66', axis=1).dropna(axis=0, how='all')\n",
    "\n",
    "\n",
    "country_gdp_per_capita_latest = []\n",
    "no_value_indices = []\n",
    "\n",
    "for index, row in country_gdp_per_capita.iterrows():\n",
    "    gdp_values = row.values\n",
    "    found = False\n",
    "    for value in reversed(gdp_values):\n",
    "        if not isinstance(value, float):\n",
    "            break\n",
    "        if not math.isnan(value):\n",
    "            country_gdp_per_capita_latest.append(value)\n",
    "            found = True\n",
    "            break\n",
    "    if not found:\n",
    "        no_value_indices.append(index)\n",
    "        \n",
    "        \n",
    "\n",
    "country_gdp_per_capita.drop(no_value_indices, axis=0, inplace=True)\n",
    "            \n",
    "country_gdp_per_capita_latest = pd.DataFrame({'Country': country_gdp_per_capita['Country Name'].values, \n",
    "                                              'Latest-GDP-per-capita': country_gdp_per_capita_latest})\n",
    "\n",
    "\n",
    "country_gdp_per_capita_latest.head()\n"
   ]
  },
  {
   "cell_type": "code",
   "execution_count": 25,
   "id": "2482ac51",
   "metadata": {},
   "outputs": [
    {
     "data": {
      "text/plain": [
       "<AxesSubplot:xlabel='Latest-GDP-per-capita', ylabel='casual_you_portion'>"
      ]
     },
     "execution_count": 25,
     "metadata": {},
     "output_type": "execute_result"
    },
    {
     "data": {
      "image/png": "[encoded data removed]",
      "text/plain": [
       "<Figure size 640x480 with 1 Axes>"
      ]
     },
     "metadata": {},
     "output_type": "display_data"
    }
   ],
   "source": [
    "pd.merge(country_gdp_per_capita_latest, \n",
    "         analyse_df, \n",
    "         how='inner', \n",
    "         left_on='Country', \n",
    "         right_on='country').plot.scatter(x='Latest-GDP-per-capita', y=f'casual_you_portion')\n"
   ]
  },
  {
   "cell_type": "code",
   "execution_count": null,
   "id": "98f6e07d",
   "metadata": {},
   "outputs": [],
   "source": []
  },
  {
   "cell_type": "code",
   "execution_count": null,
   "id": "e513c75c",
   "metadata": {},
   "outputs": [],
   "source": []
  }
 ],
 "metadata": {
  "kernelspec": {
   "display_name": "Python 3 (ipykernel)",
   "language": "python",
   "name": "python3"
  },
  "language_info": {
   "codemirror_mode": {
    "name": "ipython",
    "version": 3
   },
   "file_extension": ".py",
   "mimetype": "text/x-python",
   "name": "python",
   "nbconvert_exporter": "python",
   "pygments_lexer": "ipython3",
   "version": "3.9.13"
  }
 },
 "nbformat": 4,
 "nbformat_minor": 5
}
