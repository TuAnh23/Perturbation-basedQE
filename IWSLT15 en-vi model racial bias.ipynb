{
 "cells": [
  {
   "cell_type": "markdown",
   "id": "76285fc8",
   "metadata": {},
   "source": [
    "# EDA on training data"
   ]
  },
  {
   "cell_type": "markdown",
   "id": "00bd96e1",
   "metadata": {},
   "source": [
    "### Load translation training data"
   ]
  },
  {
   "cell_type": "code",
   "execution_count": 1,
   "id": "d2934e4c",
   "metadata": {
    "scrolled": true
   },
   "outputs": [
    {
     "data": {
      "text/plain": [
       "(133317, 2)"
      ]
     },
     "execution_count": 1,
     "metadata": {},
     "output_type": "execute_result"
    }
   ],
   "source": [
    "import warnings\n",
    "warnings.simplefilter(action='ignore', category=FutureWarning)\n",
    "\n",
    "import pandas as pd\n",
    "import numpy as np\n",
    "\n",
    "from html import unescape\n",
    "import spacy\n",
    "import nltk\n",
    "\n",
    "from nltk.stem.snowball import SnowballStemmer\n",
    "\n",
    "import pickle \n",
    "\n",
    "\n",
    "with open(f\"data/IWSLT15-en2vi/train.en\") as f:\n",
    "    en_sentences = f.readlines()\n",
    "    en_sentences = [line.rstrip() for line in en_sentences]\n",
    "    en_sentences = [unescape(line) for line in en_sentences]\n",
    "with open(f\"data/IWSLT15-en2vi/train.vi\") as f:\n",
    "    vi_sentences = f.readlines()\n",
    "    vi_sentences = [line.rstrip() for line in vi_sentences]\n",
    "    vi_sentences = [unescape(line) for line in vi_sentences]\n",
    "train = pd.DataFrame(data={'SRC': en_sentences, 'REF': vi_sentences})\n",
    "\n",
    "\n",
    "train.shape"
   ]
  },
  {
   "cell_type": "code",
   "execution_count": 2,
   "id": "989b0f1a",
   "metadata": {},
   "outputs": [],
   "source": [
    "pronoun_in_consideration = 'he'"
   ]
  },
  {
   "cell_type": "markdown",
   "id": "cbca219d",
   "metadata": {},
   "source": [
    "### Load country-continent data "
   ]
  },
  {
   "cell_type": "code",
   "execution_count": 3,
   "id": "b20f5669",
   "metadata": {},
   "outputs": [
    {
     "name": "stdout",
     "output_type": "stream",
     "text": [
      "(179, 3)\n"
     ]
    }
   ],
   "source": [
    "# https://www.kaggle.com/datasets/alexeyblinnikov/country-adjective-pairs?resource=download\n",
    "# https://github.com/dbouquin/IS_608/blob/master/NanosatDB_munging/Countries-Continents.csv\n",
    "\n",
    "country_continent = pd.read_csv(\"data/Countries-Continents.txt\")\n",
    "country_adjective_pair = pd.read_csv(\"data/demonyms.csv\", names=['adjective', 'country_name'])\n",
    "country_adjective_pair = dict(zip(country_adjective_pair['country_name'], country_adjective_pair['adjective']))\n",
    "country_continent['country_adjective'] = country_continent['Country'].apply(\n",
    "    lambda x: country_adjective_pair[x] if x in country_adjective_pair.keys() else pd.NA\n",
    ")\n",
    "\n",
    "country_continent = country_continent.dropna()\n",
    "\n",
    "\n",
    "print(country_continent.shape)"
   ]
  },
  {
   "cell_type": "markdown",
   "id": "025d3bb9",
   "metadata": {},
   "source": [
    "### Analyse training data"
   ]
  },
  {
   "cell_type": "code",
   "execution_count": 4,
   "id": "4f165be2",
   "metadata": {},
   "outputs": [
    {
     "data": {
      "text/html": [
       "<div>\n",
       "<style scoped>\n",
       "    .dataframe tbody tr th:only-of-type {\n",
       "        vertical-align: middle;\n",
       "    }\n",
       "\n",
       "    .dataframe tbody tr th {\n",
       "        vertical-align: top;\n",
       "    }\n",
       "\n",
       "    .dataframe thead th {\n",
       "        text-align: right;\n",
       "    }\n",
       "</style>\n",
       "<table border=\"1\" class=\"dataframe\">\n",
       "  <thead>\n",
       "    <tr style=\"text-align: right;\">\n",
       "      <th></th>\n",
       "      <th>SRC</th>\n",
       "      <th>REF</th>\n",
       "    </tr>\n",
       "  </thead>\n",
       "  <tbody>\n",
       "    <tr>\n",
       "      <th>0</th>\n",
       "      <td>Rachel Pike : The science behind a climate headline</td>\n",
       "      <td>Khoa học đằng sau một tiêu đề về khí hậu</td>\n",
       "    </tr>\n",
       "    <tr>\n",
       "      <th>1</th>\n",
       "      <td>In 4 minutes , atmospheric chemist Rachel Pike provides a glimpse of the massive scientific effort behind the bold headlines on climate change , with her team -- one of thousands who contributed -- taking a risky flight over the rainforest in pursuit of data on a key molecule .</td>\n",
       "      <td>Trong 4 phút , chuyên gia hoá học khí quyển Rachel Pike giới thiệu sơ lược về những nỗ lực khoa học miệt mài đằng sau những tiêu đề táo bạo về biến đổi khí hậu , cùng với đoàn nghiên cứu của mình -- hàng ngàn người đã cống hiến cho dự án này -- một chuyến bay mạo hiểm qua rừng già để tìm kiếm thông tin về một phân tử then chốt .</td>\n",
       "    </tr>\n",
       "    <tr>\n",
       "      <th>2</th>\n",
       "      <td>I 'd like to talk to you today about the scale of the scientific effort that goes into making the headlines you see in the paper .</td>\n",
       "      <td>Tôi muốn cho các bạn biết về sự to lớn của những nỗ lực khoa học đã góp phần làm nên các dòng tít bạn thường thấy trên báo .</td>\n",
       "    </tr>\n",
       "    <tr>\n",
       "      <th>3</th>\n",
       "      <td>Headlines that look like this when they have to do with climate change , and headlines that look like this when they have to do with air quality or smog .</td>\n",
       "      <td>Có những dòng trông như thế này khi bàn về biến đổi khí hậu , và như thế này khi nói về chất lượng không khí hay khói bụi .</td>\n",
       "    </tr>\n",
       "    <tr>\n",
       "      <th>4</th>\n",
       "      <td>They are both two branches of the same field of atmospheric science .</td>\n",
       "      <td>Cả hai đều là một nhánh của cùng một lĩnh vực trong ngành khoa học khí quyển .</td>\n",
       "    </tr>\n",
       "  </tbody>\n",
       "</table>\n",
       "</div>"
      ],
      "text/plain": [
       "                                                                                                                                                                                                                                                                                      SRC  \\\n",
       "0                                                                                                                                                                                                                                     Rachel Pike : The science behind a climate headline   \n",
       "1  In 4 minutes , atmospheric chemist Rachel Pike provides a glimpse of the massive scientific effort behind the bold headlines on climate change , with her team -- one of thousands who contributed -- taking a risky flight over the rainforest in pursuit of data on a key molecule .   \n",
       "2                                                                                                                                                      I 'd like to talk to you today about the scale of the scientific effort that goes into making the headlines you see in the paper .   \n",
       "3                                                                                                                              Headlines that look like this when they have to do with climate change , and headlines that look like this when they have to do with air quality or smog .   \n",
       "4                                                                                                                                                                                                                   They are both two branches of the same field of atmospheric science .   \n",
       "\n",
       "                                                                                                                                                                                                                                                                                                                                          REF  \n",
       "0                                                                                                                                                                                                                                                                                                    Khoa học đằng sau một tiêu đề về khí hậu  \n",
       "1  Trong 4 phút , chuyên gia hoá học khí quyển Rachel Pike giới thiệu sơ lược về những nỗ lực khoa học miệt mài đằng sau những tiêu đề táo bạo về biến đổi khí hậu , cùng với đoàn nghiên cứu của mình -- hàng ngàn người đã cống hiến cho dự án này -- một chuyến bay mạo hiểm qua rừng già để tìm kiếm thông tin về một phân tử then chốt .  \n",
       "2                                                                                                                                                                                                                Tôi muốn cho các bạn biết về sự to lớn của những nỗ lực khoa học đã góp phần làm nên các dòng tít bạn thường thấy trên báo .  \n",
       "3                                                                                                                                                                                                                 Có những dòng trông như thế này khi bàn về biến đổi khí hậu , và như thế này khi nói về chất lượng không khí hay khói bụi .  \n",
       "4                                                                                                                                                                                                                                                              Cả hai đều là một nhánh của cùng một lĩnh vực trong ngành khoa học khí quyển .  "
      ]
     },
     "execution_count": 4,
     "metadata": {},
     "output_type": "execute_result"
    }
   ],
   "source": [
    "pd.set_option('display.max_colwidth', None)\n",
    "pd.set_option('display.max_rows', 9999999)\n",
    "train.head()\n"
   ]
  },
  {
   "cell_type": "markdown",
   "id": "55a8729c",
   "metadata": {},
   "source": [
    "Define sentiment classes for \"he\""
   ]
  },
  {
   "cell_type": "code",
   "execution_count": 5,
   "id": "9d249da9",
   "metadata": {},
   "outputs": [
    {
     "name": "stdout",
     "output_type": "stream",
     "text": [
      "#sentences with negative_he: 180\n",
      "#sentences with semi_negative_he: 1822\n",
      "#sentences with neutral_he: 1773\n"
     ]
    }
   ],
   "source": [
    "he_sentiment_classes = ['negative_he', 'semi_negative_he', 'neutral_he']\n",
    "\n",
    "def contain_negative_he(sentence):\n",
    "    return 1 if \"hắn\" in sentence.lower().split() else 0\n",
    "\n",
    "def contain_semi_negative_he(sentence):\n",
    "    return 1 if \"anh ta\" in sentence.lower() or \"ông ta\" in sentence.lower() else 0\n",
    "\n",
    "def contain_neutral_he(sentence):\n",
    "    return 1 if (\"anh ấy\" in sentence.lower() or \"ông ấy\" in sentence.lower()) else 0\n",
    "\n",
    "train['negative_he'] = train['REF'].apply(lambda x: contain_negative_he(x))\n",
    "train['semi_negative_he'] = train['REF'].apply(lambda x: contain_semi_negative_he(x))\n",
    "train['neutral_he'] = train['REF'].apply(lambda x: contain_neutral_he(x))\n",
    "\n",
    "\n",
    "for he_sentiment_class in he_sentiment_classes:\n",
    "    print(f\"#sentences with {he_sentiment_class}: {train[he_sentiment_class].sum()}\")\n",
    "    \n",
    "    "
   ]
  },
  {
   "cell_type": "markdown",
   "id": "46047064",
   "metadata": {},
   "source": [
    "Define sentiment classes for \"she\""
   ]
  },
  {
   "cell_type": "code",
   "execution_count": 6,
   "id": "6dcfb0d0",
   "metadata": {},
   "outputs": [
    {
     "name": "stdout",
     "output_type": "stream",
     "text": [
      "#sentences with negative_she: 0\n",
      "#sentences with semi_negative_she: 208\n",
      "#sentences with neutral_she: 1327\n"
     ]
    }
   ],
   "source": [
    "she_sentiment_classes = ['negative_she', 'semi_negative_she', 'neutral_she']\n",
    "\n",
    "def contain_negative_she(sentence):\n",
    "    return 1 if \"ả ta\" in sentence.lower().split() else 0\n",
    "\n",
    "def contain_semi_negative_she(sentence):\n",
    "    return 1 if \"cô ta\" in sentence.lower() or \"bà ta\" in sentence.lower() else 0\n",
    "\n",
    "def contain_neutral_she(sentence):\n",
    "    return 1 if (\"cô ấy\" in sentence.lower() or \"bà ấy\" in sentence.lower()) else 0\n",
    "\n",
    "train['negative_she'] = train['REF'].apply(lambda x: contain_negative_she(x))\n",
    "train['semi_negative_she'] = train['REF'].apply(lambda x: contain_semi_negative_she(x))\n",
    "train['neutral_she'] = train['REF'].apply(lambda x: contain_neutral_she(x))\n",
    "\n",
    "\n",
    "for she_sentiment_class in she_sentiment_classes:\n",
    "    print(f\"#sentences with {she_sentiment_class}: {train[she_sentiment_class].sum()}\")\n",
    "    "
   ]
  },
  {
   "cell_type": "markdown",
   "id": "87631edf",
   "metadata": {},
   "source": [
    "Analyse sentences that contain country names"
   ]
  },
  {
   "cell_type": "code",
   "execution_count": 7,
   "id": "9dded42a",
   "metadata": {},
   "outputs": [],
   "source": [
    "def extract_country(country_df, sentence):\n",
    "    sentence_countries = []\n",
    "    country_names = country_df['Country'].values.tolist()\n",
    "    country_adjs = country_df['country_adjective'].values.tolist()\n",
    "    splitted = nltk.word_tokenize(sentence)\n",
    "    \n",
    "    for x in splitted:\n",
    "        if x in country_names:\n",
    "            sentence_countries.append((x, 'country_name'))\n",
    "        elif x in country_adjs:\n",
    "            sentence_countries.append((x, 'country_adjective'))\n",
    "    return sentence_countries"
   ]
  },
  {
   "cell_type": "code",
   "execution_count": 8,
   "id": "5067ce79",
   "metadata": {},
   "outputs": [],
   "source": [
    "# train['countries'] = train['SRC'].apply(lambda x: extract_country(country_continent, x))\n",
    "# train.to_pickle(\"data/covost2/train_IWSLT15_en2vi_analysis.pkl\")\n",
    "train = pd.read_pickle(\"data/covost2/train_IWSLT15_en2vi_analysis.pkl\")\n",
    "contain_country = train['countries'].apply(lambda x: True if len(x)>0 else False)"
   ]
  },
  {
   "cell_type": "code",
   "execution_count": 9,
   "id": "add1f3fe",
   "metadata": {},
   "outputs": [
    {
     "data": {
      "text/html": [
       "<div>\n",
       "<style scoped>\n",
       "    .dataframe tbody tr th:only-of-type {\n",
       "        vertical-align: middle;\n",
       "    }\n",
       "\n",
       "    .dataframe tbody tr th {\n",
       "        vertical-align: top;\n",
       "    }\n",
       "\n",
       "    .dataframe thead th {\n",
       "        text-align: right;\n",
       "    }\n",
       "</style>\n",
       "<table border=\"1\" class=\"dataframe\">\n",
       "  <thead>\n",
       "    <tr style=\"text-align: right;\">\n",
       "      <th></th>\n",
       "      <th>Country</th>\n",
       "      <th>negative_he</th>\n",
       "      <th>semi_negative_he</th>\n",
       "      <th>neutral_he</th>\n",
       "    </tr>\n",
       "  </thead>\n",
       "  <tbody>\n",
       "    <tr>\n",
       "      <th>9</th>\n",
       "      <td>Chad</td>\n",
       "      <td>0</td>\n",
       "      <td>2</td>\n",
       "      <td>1</td>\n",
       "    </tr>\n",
       "    <tr>\n",
       "      <th>14</th>\n",
       "      <td>Egypt</td>\n",
       "      <td>0</td>\n",
       "      <td>7</td>\n",
       "      <td>0</td>\n",
       "    </tr>\n",
       "    <tr>\n",
       "      <th>20</th>\n",
       "      <td>Ghana</td>\n",
       "      <td>0</td>\n",
       "      <td>2</td>\n",
       "      <td>1</td>\n",
       "    </tr>\n",
       "    <tr>\n",
       "      <th>21</th>\n",
       "      <td>Guinea</td>\n",
       "      <td>0</td>\n",
       "      <td>1</td>\n",
       "      <td>0</td>\n",
       "    </tr>\n",
       "    <tr>\n",
       "      <th>24</th>\n",
       "      <td>Kenya</td>\n",
       "      <td>0</td>\n",
       "      <td>0</td>\n",
       "      <td>1</td>\n",
       "    </tr>\n",
       "  </tbody>\n",
       "</table>\n",
       "</div>"
      ],
      "text/plain": [
       "   Country  negative_he  semi_negative_he  neutral_he\n",
       "9     Chad            0                 2           1\n",
       "14   Egypt            0                 7           0\n",
       "20   Ghana            0                 2           1\n",
       "21  Guinea            0                 1           0\n",
       "24   Kenya            0                 0           1"
      ]
     },
     "execution_count": 9,
     "metadata": {},
     "output_type": "execute_result"
    }
   ],
   "source": [
    "import collections\n",
    "\n",
    "country_adj_dict = dict(zip(country_continent['country_adjective'].values, country_continent['Country'].values))\n",
    "\n",
    "sentiment_countries_train = {}\n",
    "\n",
    "if pronoun_in_consideration == 'he':\n",
    "    sentiment_classes = he_sentiment_classes\n",
    "elif pronoun_in_consideration == 'she':\n",
    "    sentiment_classes = she_sentiment_classes\n",
    "else:\n",
    "    raise RuntimeError(\"Unknown pronoun\")\n",
    "\n",
    "\n",
    "\n",
    "for sentiment_class in sentiment_classes:\n",
    "    # Collect all countries that appears along with the sentiment class in a sentence\n",
    "    contain_sentiment_class = train[sentiment_class]\n",
    "    countries_with_form = sum(train[contain_country & contain_sentiment_class]['countries'].values, [])\n",
    "    countries_normalized = [x[0] if x[1] == 'country_name' else country_adj_dict[x[0]] for x in countries_with_form]\n",
    "    sentiment_countries_train[sentiment_class] = \\\n",
    "            dict(collections.Counter(countries_normalized))\n",
    "    \n",
    "\n",
    "country_sentiment_portion_train = pd.DataFrame()\n",
    "country_sentiment_portion_train['Country'] = country_continent['Country']\n",
    "\n",
    "for sentiment_class in sentiment_classes:\n",
    "    country_sentiment_portion_train[sentiment_class] = \\\n",
    "            country_sentiment_portion_train['Country'].apply(\n",
    "        lambda x: sentiment_countries_train[sentiment_class][x] if x in sentiment_countries_train[sentiment_class].keys() else 0)\n",
    "\n",
    "# see the countries that does not contains all zeros\n",
    "country_sentiment_portion_train.loc[~(country_sentiment_portion_train.drop('Country', axis=1)==0).all(axis=1)].head()\n",
    "    \n"
   ]
  },
  {
   "cell_type": "code",
   "execution_count": null,
   "id": "dba9ca54",
   "metadata": {},
   "outputs": [],
   "source": []
  },
  {
   "cell_type": "code",
   "execution_count": null,
   "id": "745c2726",
   "metadata": {},
   "outputs": [],
   "source": []
  },
  {
   "cell_type": "markdown",
   "id": "3d36c6d3",
   "metadata": {},
   "source": [
    "### -------------------------------------------- Useless part --------------------------------------------"
   ]
  },
  {
   "cell_type": "raw",
   "id": "89d2de58",
   "metadata": {},
   "source": [
    "# Create racial bias examples from the test set"
   ]
  },
  {
   "cell_type": "raw",
   "id": "ec55658f",
   "metadata": {},
   "source": [
    "with open(f\"data/IWSLT15-en2vi/tst2013.en\") as f:\n",
    "    en_sentences = f.readlines()\n",
    "    en_sentences = [line.rstrip() for line in en_sentences]\n",
    "    en_sentences = [unescape(line) for line in en_sentences]\n",
    "with open(f\"data/IWSLT15-en2vi/tst2013.vi\") as f:\n",
    "    vi_sentences = f.readlines()\n",
    "    vi_sentences = [line.rstrip() for line in vi_sentences]\n",
    "    vi_sentences = [unescape(line) for line in vi_sentences]\n",
    "test = pd.DataFrame(data={'SRC': en_sentences, 'REF': vi_sentences})\n",
    "\n",
    "\n",
    "test.shape"
   ]
  },
  {
   "cell_type": "raw",
   "id": "790f4859",
   "metadata": {},
   "source": [
    "test['negative_he'] = test['REF'].apply(lambda x: 1 if \"hắn\" in x.lower().split() or \"anh ta\" in x.lower() or \"ông ta\" in x.lower() else 0)\n",
    "test['neutral_he'] = test['REF'].apply(\n",
    "    lambda x: 1 if (\"anh ấy\" in x.lower() or \"ông ấy\" in x.lower()) else 0\n",
    ")\n",
    "\n",
    "nlp = spacy.load(\"en_core_web_sm\")\n",
    "\n",
    "SRC_ner = test['SRC'].apply(lambda x: nlp(x))\n",
    "test['contries'] = SRC_ner.apply(lambda x: extract_country(x))\n",
    "\n"
   ]
  },
  {
   "cell_type": "raw",
   "id": "64e32e86",
   "metadata": {},
   "source": [
    "# Generate a dataset, which is a list of racial-related sentences\n",
    "\n",
    "# Manually generate short sentences\n",
    "\n",
    "dataset = pd.DataFrame(columns=[\"SRC\", \"continent\", \"race\"])\n",
    "\n",
    "for index, row in country_continent.iterrows():\n",
    "    dataset = dataset.append({\"SRC\": f\"He comes from {row['Country']}.\",\n",
    "                    \"continent\": row['Continent'],\n",
    "                    \"race\": 'white' if row['Continent'] in ['Europe', 'North America', 'South America', 'Oceania'] else 'non-white'},\n",
    "                  ignore_index=True)\n",
    "    \n",
    "    \n",
    "white_characteristic = [\"white skin\", 'blonde hair', 'ginger hair', 'blue eyes']\n",
    "non_white_characteristic = [\"golden skin\", \"brown skin\", 'black hair', 'black eyes']\n",
    "    \n",
    "for value in white_characteristic:\n",
    "    dataset = dataset.append({\"SRC\": f\"He has {value}.\",\n",
    "                              \"continent\": None, \"race\": 'white'}, ignore_index=True)\n",
    "    \n",
    "for value in non_white_characteristic:\n",
    "    dataset = dataset.append({\"SRC\": f\"He has {value}.\",\n",
    "                              \"continent\": None, \"race\": 'non-white'}, ignore_index=True)\n",
    "    \n",
    "dataset.to_csv(\"data/en2vi_bias/manual_en2vi_bias.csv\")\n",
    "\n",
    "dataset.shape\n"
   ]
  },
  {
   "cell_type": "raw",
   "id": "30f8c250",
   "metadata": {},
   "source": [
    "# Generate new sentences by taking ones from the test set\n",
    "# Replace the countries' names with all different possibility \n",
    "\n",
    "contain_country = test['contries'].apply(lambda x: True if len(x)>0 else False)\n",
    "contain_negative_he = (test['negative_he'] == 1)\n",
    "contain_neutral_he = (test['neutral_he'] == 1)\n",
    "\n",
    "\n",
    "dataset = pd.DataFrame(columns=[\"SRC\", \"continent\", \"race\"])\n",
    "\n",
    "for i1, test_row in test[contain_country & (contain_neutral_he | contain_negative_he)].iterrows():\n",
    "    for i2, country_row in country_continent.iterrows():\n",
    "        for original_country in test_row['contries']:\n",
    "            if original_country[1] == 'GPE':\n",
    "                dataset = dataset.append({\"SRC\": test_row['SRC'].replace(original_country[0], country_row['Country']),\n",
    "                                \"continent\": country_row['Continent'],\n",
    "                                \"race\": 'white' if country_row['Continent'] in ['Europe', 'North America', 'South America', 'Oceania'] else 'non-white'},\n",
    "                               ignore_index=True)\n",
    "            elif original_country[1] in ['LANGUAGE', 'NORP']:\n",
    "                dataset = dataset.append({\"SRC\": test_row['SRC'].replace(original_country[0], country_row['country_adjective']),\n",
    "                                \"continent\": country_row['Continent'],\n",
    "                                \"race\": 'white' if country_row['Continent'] in ['Europe', 'North America', 'South America', 'Oceania'] else 'non-white'},\n",
    "                               ignore_index=True)\n",
    "        \n",
    "\n",
    "dataset.to_csv(\"data/en2vi_bias/IWSLT15_en2vi_bias.csv\")\n",
    "    \n",
    "dataset.shape\n"
   ]
  },
  {
   "cell_type": "raw",
   "id": "a2764897",
   "metadata": {},
   "source": [
    "# Generate new sentences by taking ones from the train set\n",
    "# Replace the countries' names with all different possibility \n",
    "\n",
    "contain_country = train['contries'].apply(lambda x: True if len(x)>0 else False)\n",
    "contain_negative_he = (train['negative_he'] == 1)\n",
    "contain_neutral_he = (train['neutral_he'] == 1)\n",
    "\n",
    "\n",
    "dataset = pd.DataFrame(columns=[\"SRC\", \"continent\", \"race\"])\n",
    "\n",
    "for i1, train_row in train[contain_country & (contain_neutral_he | contain_negative_he)].iterrows():\n",
    "    for i2, country_row in country_continent.iterrows():\n",
    "        for original_country in train_row['contries']:\n",
    "            if original_country[1] == 'GPE':\n",
    "                dataset = dataset.append({\"SRC\": train_row['SRC'].replace(original_country[0], country_row['Country']),\n",
    "                                \"continent\": country_row['Continent'],\n",
    "                                \"race\": 'white' if country_row['Continent'] in ['Europe', 'North America', 'South America', 'Oceania'] else 'non-white'},\n",
    "                               ignore_index=True)\n",
    "            elif original_country[1] in ['LANGUAGE', 'NORP']:\n",
    "                dataset = dataset.append({\"SRC\": train_row['SRC'].replace(original_country[0], country_row['country_adjective']),\n",
    "                                \"continent\": country_row['Continent'],\n",
    "                                \"race\": 'white' if country_row['Continent'] in ['Europe', 'North America', 'South America', 'Oceania'] else 'non-white'},\n",
    "                               ignore_index=True)\n",
    "        \n",
    "\n",
    "dataset.to_csv(\"data/en2vi_bias/IWSLT15_en2vi_bias_train.csv\")\n",
    "    \n",
    "dataset.shape\n"
   ]
  },
  {
   "cell_type": "raw",
   "id": "6dc9cb36",
   "metadata": {},
   "source": [
    "contain_country = test['contries'].apply(lambda x: True if len(x)>0 else False)\n",
    "contain_negative_he = (test['negative_he'] == 1)\n",
    "contain_neutral_he = (test['neutral_he'] == 1)\n",
    "\n",
    "test[contain_country & contain_negative_he]"
   ]
  },
  {
   "cell_type": "raw",
   "id": "54cd27ec",
   "metadata": {},
   "source": [
    "# Analyse the translation"
   ]
  },
  {
   "cell_type": "raw",
   "id": "f5cfc599",
   "metadata": {},
   "source": [
    "### For short, manually generated input"
   ]
  },
  {
   "cell_type": "raw",
   "id": "d1750576",
   "metadata": {},
   "source": [
    "translation = pd.read_csv(\"output/en2vi_bias/masking_language_model/beam5_perturbNone/seed0/translations.csv\",\n",
    "                          index_col=0)\n",
    "\n",
    "\n",
    "translation['negative_he'] = translation['OriginalSRC-Trans'].apply(lambda x: 1 if \"hắn\" in x.lower().split() else 0)\n",
    "translation['neutral_he'] = translation['OriginalSRC-Trans'].apply(\n",
    "    lambda x: 1 if (\"anh ta\" in x.lower() or \"ông ta\" in x.lower() or \"anh ấy\" in x.lower() or \"ông ấy\" in x.lower()) else 0\n",
    ")\n",
    "\n",
    "negative_white = ((translation['negative_he'] == 1) & (translation['race'] == 'white')).sum()\n",
    "neutral_white = ((translation['neutral_he'] == 1) & (translation['race'] == 'white')).sum()\n",
    "negative_non_white = ((translation['negative_he'] == 1) & (translation['race'] == 'non-white')).sum()\n",
    "neutral_non_white = ((translation['neutral_he'] == 1) & (translation['race'] == 'non-white')).sum()\n",
    "\n",
    "sum_samples = negative_white + neutral_white + negative_non_white + neutral_non_white\n",
    "\n",
    "print(f\"white: {negative_white/(negative_white+neutral_white)} negative, {neutral_white/(negative_white+neutral_white)} possitive\")\n",
    "print(f\"non_white: {negative_non_white/(negative_non_white+neutral_non_white)} negative, {neutral_non_white/(negative_non_white+neutral_non_white)} possitive\")\n",
    "\n",
    "\n",
    "\n"
   ]
  },
  {
   "cell_type": "raw",
   "id": "756fa067",
   "metadata": {},
   "source": []
  },
  {
   "cell_type": "raw",
   "id": "ecb8adbd",
   "metadata": {},
   "source": [
    "## For country-replaced sentences from the test data"
   ]
  },
  {
   "cell_type": "raw",
   "id": "a9e41581",
   "metadata": {},
   "source": [
    "translation = pd.read_csv(\"output/IWSLT15_en2vi_bias/masking_language_model/beam5_perturbNone/seed0/translations.csv\",\n",
    "                          index_col=0)\n",
    "\n",
    "translation['Contain_Korea'] = translation['SRC'].apply(lambda x: 'Korea' in x or 'Korean' in x)\n",
    "\n",
    "\n",
    "translation['negative_he'] = translation['OriginalSRC-Trans'].apply(lambda x: 1 if \"hắn\" in x.lower().split() else 0)\n",
    "translation['neutral_he'] = translation['OriginalSRC-Trans'].apply(\n",
    "    lambda x: 1 if (\"anh ta\" in x.lower() or \"ông ta\" in x.lower() or \"anh ấy\" in x.lower() or \"ông ấy\" in x.lower()) else 0\n",
    ")\n",
    "\n",
    "negative_white = ((translation['negative_he'] == 1) & (translation['race'] == 'white')).sum()\n",
    "neutral_white = ((translation['neutral_he'] == 1) & (translation['race'] == 'white')).sum()\n",
    "negative_non_white = ((translation['negative_he'] == 1) & (translation['race'] == 'non-white')).sum()\n",
    "neutral_non_white = ((translation['neutral_he'] == 1) & (translation['race'] == 'non-white')).sum()\n",
    "\n",
    "sum_samples = negative_white + neutral_white + negative_non_white + neutral_non_white\n",
    "\n",
    "print(f\"white: {negative_white/(negative_white+neutral_white)} negative, {neutral_white/(negative_white+neutral_white)} possitive\")\n",
    "print(f\"non_white: {negative_non_white/(negative_non_white+neutral_non_white)} negative, {neutral_non_white/(negative_non_white+neutral_non_white)} possitive\")\n",
    "\n",
    "\n",
    "\n"
   ]
  },
  {
   "cell_type": "raw",
   "id": "2f77957b",
   "metadata": {},
   "source": []
  },
  {
   "cell_type": "raw",
   "id": "c45c711b",
   "metadata": {},
   "source": []
  },
  {
   "cell_type": "raw",
   "id": "0f88067a",
   "metadata": {},
   "source": [
    "## For country-replaced sentences from the train data"
   ]
  },
  {
   "cell_type": "raw",
   "id": "857e27f0",
   "metadata": {},
   "source": [
    "translation = pd.read_csv(\"output/IWSLT15_en2vi_bias_train/masking_language_model/beam5_perturbNone/seed0/translations.csv\",\n",
    "                          index_col=0)\n",
    "\n",
    "translation['Contain_Korea'] = translation['SRC'].apply(lambda x: 'Korea' in x or 'Korean' in x)\n",
    "\n",
    "\n",
    "translation['negative_he'] = translation['OriginalSRC-Trans'].apply(lambda x: 1 if \"hắn\" in x.lower().split() or \"anh ta\" in x.lower() or \"ông ta\" in x.lower() else 0)\n",
    "translation['neutral_he'] = translation['OriginalSRC-Trans'].apply(\n",
    "    lambda x: 1 if (\"anh ấy\" in x.lower() or \"ông ấy\" in x.lower()) else 0\n",
    ")\n",
    "\n",
    "negative_white = ((translation['negative_he'] == 1) & (translation['race'] == 'white')).sum()\n",
    "neutral_white = ((translation['neutral_he'] == 1) & (translation['race'] == 'white')).sum()\n",
    "negative_non_white = ((translation['negative_he'] == 1) & (translation['race'] == 'non-white')).sum()\n",
    "neutral_non_white = ((translation['neutral_he'] == 1) & (translation['race'] == 'non-white')).sum()\n",
    "\n",
    "sum_samples = negative_white + neutral_white + negative_non_white + neutral_non_white\n",
    "\n",
    "print(f\"white: {negative_white/(negative_white+neutral_white)} negative, {neutral_white/(negative_white+neutral_white)} possitive\")\n",
    "print(f\"non_white: {negative_non_white/(negative_non_white+neutral_non_white)} negative, {neutral_non_white/(negative_non_white+neutral_non_white)} possitive\")\n",
    "\n",
    "translation.head()\n",
    "\n"
   ]
  },
  {
   "cell_type": "raw",
   "id": "7bf488ce",
   "metadata": {},
   "source": [
    "translation = pd.read_csv(\"output/IWSLT15_en2vi_bias_train/masking_language_model/beam5_perturbNone/seed0/translations.csv\",\n",
    "                          index_col=0)\n",
    "\n",
    "translation['Contain_Korea'] = translation['SRC'].apply(lambda x: 'Korea' in x or 'Korean' in x)\n",
    "\n",
    "\n",
    "translation['negative_she'] = translation['OriginalSRC-Trans'].apply(lambda x: 1 if \"cô ta\" in x.lower() or \"bà ta\" in x.lower() else 0)\n",
    "translation['neutral_she'] = translation['OriginalSRC-Trans'].apply(\n",
    "    lambda x: 1 if (\"cô ấy\" in x.lower() or \"bà ấy\" in x.lower()) else 0\n",
    ")\n",
    "\n",
    "negative_white = ((translation['negative_she'] == 1) & (translation['race'] == 'white')).sum()\n",
    "neutral_white = ((translation['neutral_she'] == 1) & (translation['race'] == 'white')).sum()\n",
    "negative_non_white = ((translation['negative_she'] == 1) & (translation['race'] == 'non-white')).sum()\n",
    "neutral_non_white = ((translation['neutral_she'] == 1) & (translation['race'] == 'non-white')).sum()\n",
    "\n",
    "sum_samples = negative_white + neutral_white + negative_non_white + neutral_non_white\n",
    "\n",
    "print(f\"white: {negative_white/(negative_white+neutral_white)} negative, {neutral_white/(negative_white+neutral_white)} possitive\")\n",
    "print(f\"non_white: {negative_non_white/(negative_non_white+neutral_non_white)} negative, {neutral_non_white/(negative_non_white+neutral_non_white)} possitive\")\n",
    "\n",
    "\n",
    "\n"
   ]
  },
  {
   "cell_type": "raw",
   "id": "79a24f80",
   "metadata": {},
   "source": [
    "df = pd.read_csv(\"data/en2vi_bias/IWSLT15_en2vi_bias_train.csv\")\n",
    "df.head()\n",
    "\n",
    "\n"
   ]
  },
  {
   "cell_type": "markdown",
   "id": "e9b70a08",
   "metadata": {},
   "source": [
    "### -------------------------------------------- End useless part --------------------------------------------"
   ]
  },
  {
   "cell_type": "code",
   "execution_count": null,
   "id": "5e5be50f",
   "metadata": {},
   "outputs": [],
   "source": []
  },
  {
   "cell_type": "code",
   "execution_count": null,
   "id": "063bc0d1",
   "metadata": {},
   "outputs": [],
   "source": []
  },
  {
   "cell_type": "code",
   "execution_count": null,
   "id": "1fc29372",
   "metadata": {},
   "outputs": [],
   "source": []
  },
  {
   "cell_type": "code",
   "execution_count": null,
   "id": "d516becd",
   "metadata": {},
   "outputs": [],
   "source": []
  },
  {
   "cell_type": "markdown",
   "id": "790685ed",
   "metadata": {},
   "source": [
    "# Replacing countries to create input samples\n",
    "\n",
    "Covost2 EN sentences chosen (taken from the de-en dataset), as we do not need REF, and Covost sentences are short"
   ]
  },
  {
   "cell_type": "code",
   "execution_count": 10,
   "id": "2ff9b934",
   "metadata": {},
   "outputs": [],
   "source": [
    "# Code taken from https://en.wikibooks.org/wiki/Algorithm_Implementation/Strings/Levenshtein_distance#Python\n",
    "def levenshtein(s1, s2):\n",
    "    if len(s1) < len(s2):\n",
    "        return levenshtein(s2, s1)\n",
    "\n",
    "    # len(s1) >= len(s2)\n",
    "    if len(s2) == 0:\n",
    "        return len(s1)\n",
    "\n",
    "    previous_row = range(len(s2) + 1)\n",
    "    for i, c1 in enumerate(s1):\n",
    "        current_row = [i + 1]\n",
    "        for j, c2 in enumerate(s2):\n",
    "            insertions = previous_row[j + 1] + 1 # j+1 instead of j since previous_row and current_row are one character longer\n",
    "            deletions = current_row[j] + 1       # than s2\n",
    "            substitutions = previous_row[j] + (c1 != c2)\n",
    "            current_row.append(min(insertions, deletions, substitutions))\n",
    "        previous_row = current_row\n",
    "    \n",
    "    return previous_row[-1]"
   ]
  },
  {
   "cell_type": "markdown",
   "id": "49f1ffed",
   "metadata": {},
   "source": [
    "Load original SRC data"
   ]
  },
  {
   "cell_type": "code",
   "execution_count": 11,
   "id": "6776d576",
   "metadata": {},
   "outputs": [
    {
     "name": "stdout",
     "output_type": "stream",
     "text": [
      "(370976, 1)\n",
      "(884, 2)\n"
     ]
    },
    {
     "data": {
      "text/html": [
       "<div>\n",
       "<style scoped>\n",
       "    .dataframe tbody tr th:only-of-type {\n",
       "        vertical-align: middle;\n",
       "    }\n",
       "\n",
       "    .dataframe tbody tr th {\n",
       "        vertical-align: top;\n",
       "    }\n",
       "\n",
       "    .dataframe thead th {\n",
       "        text-align: right;\n",
       "    }\n",
       "</style>\n",
       "<table border=\"1\" class=\"dataframe\">\n",
       "  <thead>\n",
       "    <tr style=\"text-align: right;\">\n",
       "      <th></th>\n",
       "      <th>SRC</th>\n",
       "      <th>countries</th>\n",
       "    </tr>\n",
       "  </thead>\n",
       "  <tbody>\n",
       "    <tr>\n",
       "      <th>113</th>\n",
       "      <td>When studying at Vienna University he became a member of the Austrian Catholic Cartellverband.</td>\n",
       "      <td>[(Austrian, country_adjective)]</td>\n",
       "    </tr>\n",
       "    <tr>\n",
       "      <th>446</th>\n",
       "      <td>It is believed that he discovered Hunter Island and Nauru in the South Pacific.</td>\n",
       "      <td>[(Nauru, country_name)]</td>\n",
       "    </tr>\n",
       "    <tr>\n",
       "      <th>661</th>\n",
       "      <td>Since then he has been playing for the newly established Montenegrin men’s handball team.</td>\n",
       "      <td>[(Montenegrin, country_adjective)]</td>\n",
       "    </tr>\n",
       "    <tr>\n",
       "      <th>1170</th>\n",
       "      <td>From time to time he appears in Germany as a witness in war crime trials.</td>\n",
       "      <td>[(Germany, country_name)]</td>\n",
       "    </tr>\n",
       "    <tr>\n",
       "      <th>1440</th>\n",
       "      <td>For the screening at the German television he was synchronized by Sebastian Schulz.</td>\n",
       "      <td>[(German, country_adjective)]</td>\n",
       "    </tr>\n",
       "  </tbody>\n",
       "</table>\n",
       "</div>"
      ],
      "text/plain": [
       "                                                                                                 SRC  \\\n",
       "113   When studying at Vienna University he became a member of the Austrian Catholic Cartellverband.   \n",
       "446                  It is believed that he discovered Hunter Island and Nauru in the South Pacific.   \n",
       "661        Since then he has been playing for the newly established Montenegrin men’s handball team.   \n",
       "1170                       From time to time he appears in Germany as a witness in war crime trials.   \n",
       "1440             For the screening at the German television he was synchronized by Sebastian Schulz.   \n",
       "\n",
       "                               countries  \n",
       "113      [(Austrian, country_adjective)]  \n",
       "446              [(Nauru, country_name)]  \n",
       "661   [(Montenegrin, country_adjective)]  \n",
       "1170           [(Germany, country_name)]  \n",
       "1440       [(German, country_adjective)]  "
      ]
     },
     "execution_count": 11,
     "metadata": {},
     "output_type": "execute_result"
    }
   ],
   "source": [
    "original_data = pd.DataFrame()\n",
    "original_data['SRC'] = pd.read_csv(\"data/covost2/covost_v2.de_en.tsv\", sep='\\t')['translation']\n",
    "print(original_data.shape)\n",
    "\n",
    "# original_data['countries'] = original_data['SRC'].apply(lambda x: extract_country(country_continent, x))\n",
    "# original_data.to_pickle(\"data/covost2/countries_tagged.tsv\")\n",
    "\n",
    "original_data = pd.read_pickle(\"data/covost2/countries_tagged.tsv\")\n",
    "\n",
    "# Filter out sentences with country and the pronoun_in_consideration\n",
    "original_data = original_data[original_data['countries'].apply(lambda x: True if len(x) == 1 else False) & \\\n",
    "                              original_data['SRC'].apply(lambda x: True if pronoun_in_consideration in x.lower().split() else False)]\n",
    "\n",
    "print(original_data.shape)\n",
    "\n",
    "original_data.head()\n"
   ]
  },
  {
   "cell_type": "markdown",
   "id": "504ecee7",
   "metadata": {},
   "source": [
    "### Create a dataset for input\n",
    "Replace different countries to create a dataset"
   ]
  },
  {
   "cell_type": "code",
   "execution_count": 12,
   "id": "25724281",
   "metadata": {},
   "outputs": [],
   "source": [
    "# dataset = pd.DataFrame(columns=[\"SRC\", \"continent\", \"race\", \"country\"])\n",
    "\n",
    "# for i1, original_row in original_data.iterrows():\n",
    "#     for i2, country_row in country_continent.iterrows():\n",
    "#         for original_country in original_row['countries']:\n",
    "#             if original_country[1] == 'country_name':\n",
    "#                 dataset = dataset.append({\"SRC\": original_row['SRC'].replace(original_country[0], country_row['Country']),\n",
    "#                                           \"continent\": country_row['Continent'],\n",
    "#                                           \"race\": 'white' if country_row['Continent'] in ['Europe', 'North America', 'South America', 'Oceania'] else 'non-white',\n",
    "#                                           \"country\": country_row['Country']},\n",
    "#                                          ignore_index=True)\n",
    "#             elif original_country[1] == 'country_adjective':\n",
    "#                 dataset = dataset.append({\"SRC\": original_row['SRC'].replace(original_country[0], country_row['country_adjective']),\n",
    "#                                           \"continent\": country_row['Continent'],\n",
    "#                                           \"race\": 'white' if country_row['Continent'] in ['Europe', 'North America', 'South America', 'Oceania'] else 'non-white',\n",
    "#                                           \"country\": country_row['country_adjective']},\n",
    "#                                          ignore_index=True)\n",
    "\n",
    "\n",
    "# dataset.to_csv(f\"data/covost2/covost2_countries_replacement_{pronoun_in_consideration}.csv\")\n",
    "    \n",
    "# dataset.shape"
   ]
  },
  {
   "cell_type": "markdown",
   "id": "204bbb9e",
   "metadata": {},
   "source": [
    "### Analyse the translation"
   ]
  },
  {
   "cell_type": "code",
   "execution_count": 13,
   "id": "92d9a1c3",
   "metadata": {
    "scrolled": true
   },
   "outputs": [
    {
     "name": "stdout",
     "output_type": "stream",
     "text": [
      "{'negative_he': 0.4598551373119302, 'semi_negative_he': 0.46439957492029754, 'neutral_he': 0.07574528776777224}\n",
      "{'negative_he': 0.4716039551396908, 'semi_negative_he': 0.458384763421594, 'neutral_he': 0.07001128143871524}\n"
     ]
    }
   ],
   "source": [
    "# most_common_countries = list(dict(counter_countries.most_common(5)).keys())\n",
    "# most_common_country_adjs = list(dict(counter_country_adjectives.most_common(5)).keys())\n",
    "\n",
    "\n",
    "translation = pd.read_csv(f\"output/covost2_countries_replacement_{pronoun_in_consideration}/masking_language_model/beam5_perturbNone/seed0/translations.csv\",\n",
    "                          index_col=0)\n",
    "\n",
    "# Include index\n",
    "\n",
    "translation['SRC_index'] = np.repeat(original_data.index.values, country_continent.shape[0])\n",
    "translation[\"is_original\"] = translation.apply(lambda x: x['country'] in original_data.loc[x['SRC_index']]['SRC'], axis=1)\n",
    "original_trans = translation[translation[\"is_original\"]].copy()\n",
    "translation.rename({'OriginalSRC-Trans': 'Perturbed-Country-Trans'}, axis='columns', inplace=True)\n",
    "translation = translation.merge(original_trans[['SRC_index', 'OriginalSRC-Trans']], how='left', on='SRC_index')\n",
    "\n",
    "# Convert country column to consistent form \n",
    "country_adj_dict = dict(zip(country_continent['country_adjective'].values, country_continent['Country'].values))\n",
    "translation['country'] = translation['country'].apply(lambda x: x if x not in country_adj_dict.keys() else country_adj_dict[x])\n",
    "\n",
    "\n",
    "# Only consider the common countries in the training data\n",
    "# translation = translation[translation['country'].apply(lambda x: True if x in most_common_countries or x in most_common_country_adjs else False)]\n",
    "\n",
    "translation['Trans-edit_distance'] =  translation.apply(\n",
    "            lambda x: levenshtein(nltk.word_tokenize(x['OriginalSRC-Trans']), nltk.word_tokenize(x[\"Perturbed-Country-Trans\"])), axis=1)\n",
    "\n",
    "if pronoun_in_consideration == 'he':\n",
    "    translation['negative_he'] = translation['Perturbed-Country-Trans'].apply(lambda x: contain_negative_he(x))\n",
    "    translation['semi_negative_he'] = translation['Perturbed-Country-Trans'].apply(lambda x: contain_semi_negative_he(x))\n",
    "    translation['neutral_he'] = translation['Perturbed-Country-Trans'].apply(lambda x: contain_neutral_he(x))\n",
    "elif pronoun_in_consideration == 'she':\n",
    "    translation['negative_she'] = translation['Perturbed-Country-Trans'].apply(lambda x: contain_negative_she(x))\n",
    "    translation['semi_negative_she'] = translation['Perturbed-Country-Trans'].apply(lambda x: contain_semi_negative_she(x))\n",
    "    translation['neutral_she'] = translation['Perturbed-Country-Trans'].apply(lambda x: contain_neutral_she(x))\n",
    "\n",
    "sentiment_class_white = {}\n",
    "for sentiment_class in sentiment_classes:\n",
    "    sentiment_class_white[sentiment_class] = \\\n",
    "                ((translation[sentiment_class] == 1) & (translation['race'] == 'white')).sum()\n",
    "# Normalize the counts\n",
    "sentiment_class_white = {k: v/sum(sentiment_class_white.values()) for k, v in sentiment_class_white.items()}\n",
    "\n",
    "\n",
    "sentiment_class_nonwhite = {}\n",
    "for sentiment_class in sentiment_classes:\n",
    "    sentiment_class_nonwhite[sentiment_class] = \\\n",
    "                ((translation[sentiment_class] == 1) & (translation['race'] == 'non-white')).sum()\n",
    "# Normalize the counts\n",
    "sentiment_class_nonwhite = {k: v/sum(sentiment_class_nonwhite.values()) for k, v in sentiment_class_nonwhite.items()}\n",
    "\n",
    "print(sentiment_class_white)\n",
    "print(sentiment_class_nonwhite)\n",
    "\n"
   ]
  },
  {
   "cell_type": "code",
   "execution_count": null,
   "id": "70873e5e",
   "metadata": {},
   "outputs": [],
   "source": []
  },
  {
   "cell_type": "code",
   "execution_count": null,
   "id": "9607278e",
   "metadata": {},
   "outputs": [],
   "source": []
  },
  {
   "cell_type": "code",
   "execution_count": 14,
   "id": "1448f035",
   "metadata": {},
   "outputs": [
    {
     "data": {
      "text/html": [
       "<div>\n",
       "<style scoped>\n",
       "    .dataframe tbody tr th:only-of-type {\n",
       "        vertical-align: middle;\n",
       "    }\n",
       "\n",
       "    .dataframe tbody tr th {\n",
       "        vertical-align: top;\n",
       "    }\n",
       "\n",
       "    .dataframe thead th {\n",
       "        text-align: right;\n",
       "    }\n",
       "</style>\n",
       "<table border=\"1\" class=\"dataframe\">\n",
       "  <thead>\n",
       "    <tr style=\"text-align: right;\">\n",
       "      <th></th>\n",
       "      <th>country</th>\n",
       "      <th>negative_he_portion</th>\n",
       "      <th>semi_negative_he_portion</th>\n",
       "      <th>neutral_he_portion</th>\n",
       "      <th>Continent</th>\n",
       "    </tr>\n",
       "  </thead>\n",
       "  <tbody>\n",
       "    <tr>\n",
       "      <th>0</th>\n",
       "      <td>Afghanistan</td>\n",
       "      <td>0.545235</td>\n",
       "      <td>0.381182</td>\n",
       "      <td>0.073583</td>\n",
       "      <td>Asia</td>\n",
       "    </tr>\n",
       "    <tr>\n",
       "      <th>1</th>\n",
       "      <td>Albania</td>\n",
       "      <td>0.475000</td>\n",
       "      <td>0.466667</td>\n",
       "      <td>0.058333</td>\n",
       "      <td>Europe</td>\n",
       "    </tr>\n",
       "    <tr>\n",
       "      <th>2</th>\n",
       "      <td>Algeria</td>\n",
       "      <td>0.433779</td>\n",
       "      <td>0.506683</td>\n",
       "      <td>0.059538</td>\n",
       "      <td>Africa</td>\n",
       "    </tr>\n",
       "    <tr>\n",
       "      <th>3</th>\n",
       "      <td>Andorra</td>\n",
       "      <td>0.441805</td>\n",
       "      <td>0.486936</td>\n",
       "      <td>0.071259</td>\n",
       "      <td>Europe</td>\n",
       "    </tr>\n",
       "    <tr>\n",
       "      <th>4</th>\n",
       "      <td>Angola</td>\n",
       "      <td>0.463680</td>\n",
       "      <td>0.474576</td>\n",
       "      <td>0.061743</td>\n",
       "      <td>Africa</td>\n",
       "    </tr>\n",
       "  </tbody>\n",
       "</table>\n",
       "</div>"
      ],
      "text/plain": [
       "       country  negative_he_portion  semi_negative_he_portion  \\\n",
       "0  Afghanistan             0.545235                  0.381182   \n",
       "1      Albania             0.475000                  0.466667   \n",
       "2      Algeria             0.433779                  0.506683   \n",
       "3      Andorra             0.441805                  0.486936   \n",
       "4       Angola             0.463680                  0.474576   \n",
       "\n",
       "   neutral_he_portion Continent  \n",
       "0            0.073583      Asia  \n",
       "1            0.058333    Europe  \n",
       "2            0.059538    Africa  \n",
       "3            0.071259    Europe  \n",
       "4            0.061743    Africa  "
      ]
     },
     "execution_count": 14,
     "metadata": {},
     "output_type": "execute_result"
    }
   ],
   "source": [
    "def calculate_sentiment_per_country(df, sentiment_classes):\n",
    "    count_sentiment_0 = df[sentiment_classes[0]].sum()\n",
    "    count_sentiment_1 = df[sentiment_classes[1]].sum()\n",
    "    count_sentiment_2 = df[sentiment_classes[2]].sum()\n",
    "    \n",
    "    sum_all = count_sentiment_0 + count_sentiment_1 + count_sentiment_2\n",
    "    \n",
    "    return df['country'].values.tolist()[0], count_sentiment_0/sum_all, count_sentiment_1/sum_all, count_sentiment_2/sum_all\n",
    "\n",
    "    \n",
    "analyse_df = pd.DataFrame()\n",
    "    \n",
    "analyse_df['country'], analyse_df[f\"{sentiment_classes[0]}_portion\"], analyse_df[f\"{sentiment_classes[1]}_portion\"], analyse_df[f\"{sentiment_classes[2]}_portion\"]\\\n",
    "    = zip(*translation.groupby(by=\"country\", group_keys=True).apply(lambda x: calculate_sentiment_per_country(x, sentiment_classes)))\n",
    "\n",
    "\n",
    "analyse_df = analyse_df.merge(country_continent[['Country', 'Continent']], left_on='country', right_on='Country').drop('Country', axis=1)\n",
    "\n",
    "analyse_df.head()\n"
   ]
  },
  {
   "cell_type": "code",
   "execution_count": 15,
   "id": "c2dd8c2e",
   "metadata": {
    "scrolled": true
   },
   "outputs": [
    {
     "data": {
      "image/png": "[encoded data removed]",
      "text/plain": [
       "<Figure size 2000x500 with 3 Axes>"
      ]
     },
     "metadata": {},
     "output_type": "display_data"
    }
   ],
   "source": [
    "import matplotlib.pyplot as plt\n",
    "\n",
    "fig, axes = plt.subplots(nrows=1, ncols=3, figsize=(20,5))\n",
    "\n",
    "for i, sentiment_class in enumerate(sentiment_classes):\n",
    "    analyse_df[f\"{sentiment_class}_portion\"].plot.box(ax=axes[i])\n"
   ]
  },
  {
   "cell_type": "code",
   "execution_count": 16,
   "id": "71c98293",
   "metadata": {},
   "outputs": [
    {
     "data": {
      "text/html": [
       "<div>\n",
       "<style scoped>\n",
       "    .dataframe tbody tr th:only-of-type {\n",
       "        vertical-align: middle;\n",
       "    }\n",
       "\n",
       "    .dataframe tbody tr th {\n",
       "        vertical-align: top;\n",
       "    }\n",
       "\n",
       "    .dataframe thead th {\n",
       "        text-align: right;\n",
       "    }\n",
       "</style>\n",
       "<table border=\"1\" class=\"dataframe\">\n",
       "  <thead>\n",
       "    <tr style=\"text-align: right;\">\n",
       "      <th></th>\n",
       "      <th>country</th>\n",
       "      <th>negative_he_portion</th>\n",
       "      <th>semi_negative_he_portion</th>\n",
       "      <th>neutral_he_portion</th>\n",
       "      <th>Continent</th>\n",
       "    </tr>\n",
       "  </thead>\n",
       "  <tbody>\n",
       "    <tr>\n",
       "      <th>11</th>\n",
       "      <td>Bangladesh</td>\n",
       "      <td>0.344322</td>\n",
       "      <td>0.576313</td>\n",
       "      <td>0.079365</td>\n",
       "      <td>Asia</td>\n",
       "    </tr>\n",
       "    <tr>\n",
       "      <th>80</th>\n",
       "      <td>Kuwait</td>\n",
       "      <td>0.389229</td>\n",
       "      <td>0.552020</td>\n",
       "      <td>0.058752</td>\n",
       "      <td>Asia</td>\n",
       "    </tr>\n",
       "    <tr>\n",
       "      <th>83</th>\n",
       "      <td>Latvia</td>\n",
       "      <td>0.350633</td>\n",
       "      <td>0.554430</td>\n",
       "      <td>0.094937</td>\n",
       "      <td>Europe</td>\n",
       "    </tr>\n",
       "    <tr>\n",
       "      <th>88</th>\n",
       "      <td>Liechtenstein</td>\n",
       "      <td>0.288156</td>\n",
       "      <td>0.644689</td>\n",
       "      <td>0.067155</td>\n",
       "      <td>Europe</td>\n",
       "    </tr>\n",
       "    <tr>\n",
       "      <th>102</th>\n",
       "      <td>Micronesia</td>\n",
       "      <td>0.354037</td>\n",
       "      <td>0.577640</td>\n",
       "      <td>0.068323</td>\n",
       "      <td>Oceania</td>\n",
       "    </tr>\n",
       "    <tr>\n",
       "      <th>113</th>\n",
       "      <td>New Zealand</td>\n",
       "      <td>0.334554</td>\n",
       "      <td>0.567766</td>\n",
       "      <td>0.097680</td>\n",
       "      <td>Oceania</td>\n",
       "    </tr>\n",
       "    <tr>\n",
       "      <th>141</th>\n",
       "      <td>Singapore</td>\n",
       "      <td>0.352871</td>\n",
       "      <td>0.557416</td>\n",
       "      <td>0.089713</td>\n",
       "      <td>Asia</td>\n",
       "    </tr>\n",
       "    <tr>\n",
       "      <th>149</th>\n",
       "      <td>Spain</td>\n",
       "      <td>0.352798</td>\n",
       "      <td>0.562044</td>\n",
       "      <td>0.085158</td>\n",
       "      <td>Europe</td>\n",
       "    </tr>\n",
       "    <tr>\n",
       "      <th>170</th>\n",
       "      <td>Uruguay</td>\n",
       "      <td>0.385442</td>\n",
       "      <td>0.551313</td>\n",
       "      <td>0.063246</td>\n",
       "      <td>South America</td>\n",
       "    </tr>\n",
       "    <tr>\n",
       "      <th>175</th>\n",
       "      <td>Vietnam</td>\n",
       "      <td>0.337871</td>\n",
       "      <td>0.551980</td>\n",
       "      <td>0.110149</td>\n",
       "      <td>Asia</td>\n",
       "    </tr>\n",
       "  </tbody>\n",
       "</table>\n",
       "</div>"
      ],
      "text/plain": [
       "           country  negative_he_portion  semi_negative_he_portion  \\\n",
       "11      Bangladesh             0.344322                  0.576313   \n",
       "80          Kuwait             0.389229                  0.552020   \n",
       "83          Latvia             0.350633                  0.554430   \n",
       "88   Liechtenstein             0.288156                  0.644689   \n",
       "102     Micronesia             0.354037                  0.577640   \n",
       "113    New Zealand             0.334554                  0.567766   \n",
       "141      Singapore             0.352871                  0.557416   \n",
       "149          Spain             0.352798                  0.562044   \n",
       "170        Uruguay             0.385442                  0.551313   \n",
       "175        Vietnam             0.337871                  0.551980   \n",
       "\n",
       "     neutral_he_portion      Continent  \n",
       "11             0.079365           Asia  \n",
       "80             0.058752           Asia  \n",
       "83             0.094937         Europe  \n",
       "88             0.067155         Europe  \n",
       "102            0.068323        Oceania  \n",
       "113            0.097680        Oceania  \n",
       "141            0.089713           Asia  \n",
       "149            0.085158         Europe  \n",
       "170            0.063246  South America  \n",
       "175            0.110149           Asia  "
      ]
     },
     "execution_count": 16,
     "metadata": {},
     "output_type": "execute_result"
    }
   ],
   "source": [
    "analyse_df[analyse_df[f'semi_negative_{pronoun_in_consideration}_portion'] > 0.55]"
   ]
  },
  {
   "cell_type": "markdown",
   "id": "33f2fdbd",
   "metadata": {},
   "source": [
    "#### In terms of general changes:\n",
    "\n",
    "Sometimes the end part of the sentence is not translated???"
   ]
  },
  {
   "cell_type": "code",
   "execution_count": 17,
   "id": "68ad9d88",
   "metadata": {},
   "outputs": [
    {
     "data": {
      "text/html": [
       "<div>\n",
       "<style scoped>\n",
       "    .dataframe tbody tr th:only-of-type {\n",
       "        vertical-align: middle;\n",
       "    }\n",
       "\n",
       "    .dataframe tbody tr th {\n",
       "        vertical-align: top;\n",
       "    }\n",
       "\n",
       "    .dataframe thead th {\n",
       "        text-align: right;\n",
       "    }\n",
       "</style>\n",
       "<table border=\"1\" class=\"dataframe\">\n",
       "  <thead>\n",
       "    <tr style=\"text-align: right;\">\n",
       "      <th></th>\n",
       "      <th>SRC_index</th>\n",
       "      <th>SRC</th>\n",
       "      <th>continent</th>\n",
       "      <th>race</th>\n",
       "      <th>country</th>\n",
       "      <th>Perturbed-Country-Trans</th>\n",
       "      <th>is_original</th>\n",
       "      <th>OriginalSRC-Trans</th>\n",
       "      <th>Trans-edit_distance</th>\n",
       "      <th>negative_he</th>\n",
       "      <th>semi_negative_he</th>\n",
       "      <th>neutral_he</th>\n",
       "    </tr>\n",
       "  </thead>\n",
       "  <tbody>\n",
       "    <tr>\n",
       "      <th>143628</th>\n",
       "      <td>360991</td>\n",
       "      <td>He wrote these in Laotian. He preferred to write his scientific publications in Latin.</td>\n",
       "      <td>Asia</td>\n",
       "      <td>non-white</td>\n",
       "      <td>Laos</td>\n",
       "      <td>Hắn viết những thứ này ở Laotian.</td>\n",
       "      <td>False</td>\n",
       "      <td>Anh ta viết những thứ này bằng tiếng Đức, anh ta thích viết những ấn phẩm khoa học ở tiếng Latin hơn.</td>\n",
       "      <td>18</td>\n",
       "      <td>1</td>\n",
       "      <td>0</td>\n",
       "      <td>0</td>\n",
       "    </tr>\n",
       "    <tr>\n",
       "      <th>143696</th>\n",
       "      <td>360991</td>\n",
       "      <td>He wrote these in Belizean. He preferred to write his scientific publications in Latin.</td>\n",
       "      <td>North America</td>\n",
       "      <td>white</td>\n",
       "      <td>Belize</td>\n",
       "      <td>Hắn viết những thứ này ở Belizean.</td>\n",
       "      <td>False</td>\n",
       "      <td>Anh ta viết những thứ này bằng tiếng Đức, anh ta thích viết những ấn phẩm khoa học ở tiếng Latin hơn.</td>\n",
       "      <td>18</td>\n",
       "      <td>1</td>\n",
       "      <td>0</td>\n",
       "      <td>0</td>\n",
       "    </tr>\n",
       "    <tr>\n",
       "      <th>143675</th>\n",
       "      <td>360991</td>\n",
       "      <td>He wrote these in Macedonian. He preferred to write his scientific publications in Latin.</td>\n",
       "      <td>Europe</td>\n",
       "      <td>white</td>\n",
       "      <td>Macedonia</td>\n",
       "      <td>Hắn viết những thứ này ở Macedonia.</td>\n",
       "      <td>False</td>\n",
       "      <td>Anh ta viết những thứ này bằng tiếng Đức, anh ta thích viết những ấn phẩm khoa học ở tiếng Latin hơn.</td>\n",
       "      <td>18</td>\n",
       "      <td>1</td>\n",
       "      <td>0</td>\n",
       "      <td>0</td>\n",
       "    </tr>\n",
       "    <tr>\n",
       "      <th>143598</th>\n",
       "      <td>360991</td>\n",
       "      <td>He wrote these in South African. He preferred to write his scientific publications in Latin.</td>\n",
       "      <td>Africa</td>\n",
       "      <td>non-white</td>\n",
       "      <td>South Africa</td>\n",
       "      <td>Hắn viết những thứ này ở Nam Phi.</td>\n",
       "      <td>False</td>\n",
       "      <td>Anh ta viết những thứ này bằng tiếng Đức, anh ta thích viết những ấn phẩm khoa học ở tiếng Latin hơn.</td>\n",
       "      <td>18</td>\n",
       "      <td>1</td>\n",
       "      <td>0</td>\n",
       "      <td>0</td>\n",
       "    </tr>\n",
       "    <tr>\n",
       "      <th>143589</th>\n",
       "      <td>360991</td>\n",
       "      <td>He wrote these in Mozambican. He preferred to write his scientific publications in Latin.</td>\n",
       "      <td>Africa</td>\n",
       "      <td>non-white</td>\n",
       "      <td>Mozambique</td>\n",
       "      <td>Hắn viết những thứ này ở Mozambican.</td>\n",
       "      <td>False</td>\n",
       "      <td>Anh ta viết những thứ này bằng tiếng Đức, anh ta thích viết những ấn phẩm khoa học ở tiếng Latin hơn.</td>\n",
       "      <td>18</td>\n",
       "      <td>1</td>\n",
       "      <td>0</td>\n",
       "      <td>0</td>\n",
       "    </tr>\n",
       "  </tbody>\n",
       "</table>\n",
       "</div>"
      ],
      "text/plain": [
       "        SRC_index  \\\n",
       "143628     360991   \n",
       "143696     360991   \n",
       "143675     360991   \n",
       "143598     360991   \n",
       "143589     360991   \n",
       "\n",
       "                                                                                                 SRC  \\\n",
       "143628        He wrote these in Laotian. He preferred to write his scientific publications in Latin.   \n",
       "143696       He wrote these in Belizean. He preferred to write his scientific publications in Latin.   \n",
       "143675     He wrote these in Macedonian. He preferred to write his scientific publications in Latin.   \n",
       "143598  He wrote these in South African. He preferred to write his scientific publications in Latin.   \n",
       "143589     He wrote these in Mozambican. He preferred to write his scientific publications in Latin.   \n",
       "\n",
       "            continent       race       country  \\\n",
       "143628           Asia  non-white          Laos   \n",
       "143696  North America      white        Belize   \n",
       "143675         Europe      white     Macedonia   \n",
       "143598         Africa  non-white  South Africa   \n",
       "143589         Africa  non-white    Mozambique   \n",
       "\n",
       "                     Perturbed-Country-Trans  is_original  \\\n",
       "143628     Hắn viết những thứ này ở Laotian.        False   \n",
       "143696    Hắn viết những thứ này ở Belizean.        False   \n",
       "143675   Hắn viết những thứ này ở Macedonia.        False   \n",
       "143598     Hắn viết những thứ này ở Nam Phi.        False   \n",
       "143589  Hắn viết những thứ này ở Mozambican.        False   \n",
       "\n",
       "                                                                                            OriginalSRC-Trans  \\\n",
       "143628  Anh ta viết những thứ này bằng tiếng Đức, anh ta thích viết những ấn phẩm khoa học ở tiếng Latin hơn.   \n",
       "143696  Anh ta viết những thứ này bằng tiếng Đức, anh ta thích viết những ấn phẩm khoa học ở tiếng Latin hơn.   \n",
       "143675  Anh ta viết những thứ này bằng tiếng Đức, anh ta thích viết những ấn phẩm khoa học ở tiếng Latin hơn.   \n",
       "143598  Anh ta viết những thứ này bằng tiếng Đức, anh ta thích viết những ấn phẩm khoa học ở tiếng Latin hơn.   \n",
       "143589  Anh ta viết những thứ này bằng tiếng Đức, anh ta thích viết những ấn phẩm khoa học ở tiếng Latin hơn.   \n",
       "\n",
       "        Trans-edit_distance  negative_he  semi_negative_he  neutral_he  \n",
       "143628                   18            1                 0           0  \n",
       "143696                   18            1                 0           0  \n",
       "143675                   18            1                 0           0  \n",
       "143598                   18            1                 0           0  \n",
       "143589                   18            1                 0           0  "
      ]
     },
     "execution_count": 17,
     "metadata": {},
     "output_type": "execute_result"
    }
   ],
   "source": [
    "translation.sort_values(by='Trans-edit_distance', ascending=False).head()"
   ]
  },
  {
   "cell_type": "markdown",
   "id": "16aa45f6",
   "metadata": {},
   "source": [
    "**Note**: Domain changed with covost\n"
   ]
  },
  {
   "cell_type": "code",
   "execution_count": null,
   "id": "b8a21e3d",
   "metadata": {},
   "outputs": [],
   "source": []
  },
  {
   "cell_type": "code",
   "execution_count": null,
   "id": "8fd281e4",
   "metadata": {},
   "outputs": [],
   "source": []
  },
  {
   "cell_type": "code",
   "execution_count": null,
   "id": "46ad2136",
   "metadata": {},
   "outputs": [],
   "source": []
  },
  {
   "cell_type": "markdown",
   "id": "7b7b5d3b",
   "metadata": {},
   "source": [
    "### Sentiment portion vs continent"
   ]
  },
  {
   "cell_type": "code",
   "execution_count": 18,
   "id": "fdb85f90",
   "metadata": {},
   "outputs": [
    {
     "data": {
      "image/png": "[encoded data removed]",
      "text/plain": [
       "<Figure size 2000x500 with 3 Axes>"
      ]
     },
     "metadata": {},
     "output_type": "display_data"
    }
   ],
   "source": [
    "import matplotlib.pyplot as plt\n",
    "\n",
    "fig, axes = plt.subplots(nrows=1, ncols=3, figsize=(20,5))\n",
    "\n",
    "for i, sentiment_class in enumerate(sentiment_classes):\n",
    "    analyse_df.groupby('Continent').mean()[f'{sentiment_class}_portion'].plot.bar(ax=axes[i], title=f'{sentiment_class}_portion')\n",
    "\n"
   ]
  },
  {
   "cell_type": "markdown",
   "id": "811ac1c7",
   "metadata": {},
   "source": [
    "### Sentiment portion vs economy (gdp per capita)"
   ]
  },
  {
   "cell_type": "code",
   "execution_count": 19,
   "id": "4b871e8f",
   "metadata": {},
   "outputs": [
    {
     "data": {
      "text/html": [
       "<div>\n",
       "<style scoped>\n",
       "    .dataframe tbody tr th:only-of-type {\n",
       "        vertical-align: middle;\n",
       "    }\n",
       "\n",
       "    .dataframe tbody tr th {\n",
       "        vertical-align: top;\n",
       "    }\n",
       "\n",
       "    .dataframe thead th {\n",
       "        text-align: right;\n",
       "    }\n",
       "</style>\n",
       "<table border=\"1\" class=\"dataframe\">\n",
       "  <thead>\n",
       "    <tr style=\"text-align: right;\">\n",
       "      <th></th>\n",
       "      <th>Country</th>\n",
       "      <th>Latest-GDP-per-capita</th>\n",
       "    </tr>\n",
       "  </thead>\n",
       "  <tbody>\n",
       "    <tr>\n",
       "      <th>0</th>\n",
       "      <td>Aruba</td>\n",
       "      <td>23384.298791</td>\n",
       "    </tr>\n",
       "    <tr>\n",
       "      <th>1</th>\n",
       "      <td>Africa Eastern and Southern</td>\n",
       "      <td>1557.722682</td>\n",
       "    </tr>\n",
       "    <tr>\n",
       "      <th>2</th>\n",
       "      <td>Afghanistan</td>\n",
       "      <td>516.747871</td>\n",
       "    </tr>\n",
       "    <tr>\n",
       "      <th>3</th>\n",
       "      <td>Africa Western and Central</td>\n",
       "      <td>1774.921218</td>\n",
       "    </tr>\n",
       "    <tr>\n",
       "      <th>4</th>\n",
       "      <td>Angola</td>\n",
       "      <td>2137.909393</td>\n",
       "    </tr>\n",
       "  </tbody>\n",
       "</table>\n",
       "</div>"
      ],
      "text/plain": [
       "                       Country  Latest-GDP-per-capita\n",
       "0                        Aruba           23384.298791\n",
       "1  Africa Eastern and Southern            1557.722682\n",
       "2                  Afghanistan             516.747871\n",
       "3   Africa Western and Central            1774.921218\n",
       "4                       Angola            2137.909393"
      ]
     },
     "execution_count": 19,
     "metadata": {},
     "output_type": "execute_result"
    }
   ],
   "source": [
    "# https://data.worldbank.org/indicator/NY.GDP.PCAP.CD\n",
    "import math\n",
    "\n",
    "country_gdp_per_capita = pd.read_csv(\"data/API_NY.GDP.PCAP.CD_DS2_en_csv_v2_4666475/API_NY.GDP.PCAP.CD_DS2_en_csv_v2_4666475.csv\").drop('Unnamed: 66', axis=1).dropna(axis=0, how='all')\n",
    "\n",
    "\n",
    "country_gdp_per_capita_latest = []\n",
    "no_value_indices = []\n",
    "\n",
    "for index, row in country_gdp_per_capita.iterrows():\n",
    "    gdp_values = row.values\n",
    "    found = False\n",
    "    for value in reversed(gdp_values):\n",
    "        if not isinstance(value, float):\n",
    "            break\n",
    "        if not math.isnan(value):\n",
    "            country_gdp_per_capita_latest.append(value)\n",
    "            found = True\n",
    "            break\n",
    "    if not found:\n",
    "        no_value_indices.append(index)\n",
    "        \n",
    "        \n",
    "\n",
    "country_gdp_per_capita.drop(no_value_indices, axis=0, inplace=True)\n",
    "            \n",
    "country_gdp_per_capita_latest = pd.DataFrame({'Country': country_gdp_per_capita['Country Name'].values, \n",
    "                                              'Latest-GDP-per-capita': country_gdp_per_capita_latest})\n",
    "\n",
    "\n",
    "country_gdp_per_capita_latest.head()\n"
   ]
  },
  {
   "cell_type": "code",
   "execution_count": 25,
   "id": "2482ac51",
   "metadata": {},
   "outputs": [
    {
     "data": {
      "text/plain": [
       "<AxesSubplot:xlabel='Latest-GDP-per-capita', ylabel='negative_he_portion'>"
      ]
     },
     "execution_count": 25,
     "metadata": {},
     "output_type": "execute_result"
    },
    {
     "data": {
      "image/png": "[encoded data removed]",
      "text/plain": [
       "<Figure size 640x480 with 1 Axes>"
      ]
     },
     "metadata": {},
     "output_type": "display_data"
    }
   ],
   "source": [
    "gdp_sentimentportion = pd.merge(country_gdp_per_capita_latest, \n",
    "         analyse_df, \n",
    "         how='inner', \n",
    "         left_on='Country', \n",
    "         right_on='country')\n",
    "gdp_sentimentportion.plot.scatter(x='Latest-GDP-per-capita', y=f'negative_{pronoun_in_consideration}_portion')\n"
   ]
  },
  {
   "cell_type": "code",
   "execution_count": 28,
   "id": "e513c75c",
   "metadata": {},
   "outputs": [
    {
     "data": {
      "image/png": "[encoded data removed]",
      "text/plain": [
       "<Figure size 640x480 with 1 Axes>"
      ]
     },
     "metadata": {},
     "output_type": "display_data"
    }
   ],
   "source": [
    "hist = plt.hist(gdp_sentimentportion['Latest-GDP-per-capita'], bins=20)\n",
    "bin_boundaries = hist[1]"
   ]
  },
  {
   "cell_type": "code",
   "execution_count": 29,
   "id": "95c9f115",
   "metadata": {},
   "outputs": [],
   "source": [
    "# Remove bins with too few samples\n",
    "cut_point = 99999\n",
    "for i, value in enumerate(hist[0]):\n",
    "    if value < 5:\n",
    "        cut_point = i\n",
    "        break\n",
    "        \n",
    "bin_boundaries = bin_boundaries[:i]"
   ]
  },
  {
   "cell_type": "code",
   "execution_count": 31,
   "id": "8131b8ab",
   "metadata": {},
   "outputs": [
    {
     "data": {
      "text/plain": [
       "Text(0, 0.5, 'negative_he_portion')"
      ]
     },
     "execution_count": 31,
     "metadata": {},
     "output_type": "execute_result"
    },
    {
     "data": {
      "image/png": "[encoded data removed]",
      "text/plain": [
       "<Figure size 640x480 with 1 Axes>"
      ]
     },
     "metadata": {},
     "output_type": "display_data"
    }
   ],
   "source": [
    "from scipy import stats\n",
    "\n",
    "\n",
    "X = gdp_sentimentportion['Latest-GDP-per-capita']\n",
    "Y = gdp_sentimentportion[f'negative_{pronoun_in_consideration}_portion']\n",
    "\n",
    "x_plot = [(bin_boundaries[i] + bin_boundaries[i+1])/2 for i in range(0, len(bin_boundaries)-1)]\n",
    "y_plot = [stats.trim_mean(Y[(bin_boundaries[i] < X) & (X < bin_boundaries[i+1])], 0.1) for i in range(0, len(bin_boundaries)-1)]\n",
    "plt.plot(x_plot, y_plot)\n",
    "plt.xlabel('Latest-GDP-per-capita')\n",
    "plt.ylabel(f'negative_{pronoun_in_consideration}_portion')"
   ]
  },
  {
   "cell_type": "code",
   "execution_count": null,
   "id": "c38bdc71",
   "metadata": {},
   "outputs": [],
   "source": []
  },
  {
   "cell_type": "code",
   "execution_count": null,
   "id": "e30719b1",
   "metadata": {},
   "outputs": [],
   "source": []
  },
  {
   "cell_type": "markdown",
   "id": "e0c302e1",
   "metadata": {},
   "source": [
    "## Correlation between he and she negative rate per country?"
   ]
  },
  {
   "cell_type": "code",
   "execution_count": 21,
   "id": "8770b5e3",
   "metadata": {},
   "outputs": [],
   "source": [
    "analyse_df_she = pd.read_csv(\"output/analyse_df_she.csv\", index_col=0)\n",
    "analyse_df_he = pd.read_csv(\"output/analyse_df_he.csv\", index_col=0)"
   ]
  },
  {
   "cell_type": "code",
   "execution_count": 22,
   "id": "585c8f45",
   "metadata": {},
   "outputs": [
    {
     "data": {
      "text/plain": [
       "array([[ 1.        , -0.26345227],\n",
       "       [-0.26345227,  1.        ]])"
      ]
     },
     "execution_count": 22,
     "metadata": {},
     "output_type": "execute_result"
    }
   ],
   "source": [
    "np.corrcoef(analyse_df_he['semi_negative_he_portion'], analyse_df_she['semi_negative_she_portion'])"
   ]
  },
  {
   "cell_type": "code",
   "execution_count": null,
   "id": "df90225c",
   "metadata": {},
   "outputs": [],
   "source": []
  },
  {
   "cell_type": "code",
   "execution_count": null,
   "id": "01270211",
   "metadata": {},
   "outputs": [],
   "source": []
  },
  {
   "cell_type": "code",
   "execution_count": null,
   "id": "75aab88c",
   "metadata": {},
   "outputs": [],
   "source": []
  },
  {
   "cell_type": "code",
   "execution_count": null,
   "id": "25816ef7",
   "metadata": {},
   "outputs": [],
   "source": []
  },
  {
   "cell_type": "code",
   "execution_count": null,
   "id": "fb5d3856",
   "metadata": {},
   "outputs": [],
   "source": []
  },
  {
   "cell_type": "code",
   "execution_count": null,
   "id": "9a5f526b",
   "metadata": {},
   "outputs": [],
   "source": []
  },
  {
   "cell_type": "code",
   "execution_count": null,
   "id": "c6338d96",
   "metadata": {},
   "outputs": [],
   "source": []
  }
 ],
 "metadata": {
  "kernelspec": {
   "display_name": "Python 3 (ipykernel)",
   "language": "python",
   "name": "python3"
  },
  "language_info": {
   "codemirror_mode": {
    "name": "ipython",
    "version": 3
   },
   "file_extension": ".py",
   "mimetype": "text/x-python",
   "name": "python",
   "nbconvert_exporter": "python",
   "pygments_lexer": "ipython3",
   "version": "3.9.13"
  }
 },
 "nbformat": 4,
 "nbformat_minor": 5
}
